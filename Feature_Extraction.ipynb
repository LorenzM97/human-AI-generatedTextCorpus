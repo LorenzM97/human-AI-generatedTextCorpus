{
 "cells": [
  {
   "cell_type": "markdown",
   "id": "9e09d025",
   "metadata": {},
   "source": [
    "# Featurea Derivation for the Different Datasets"
   ]
  },
  {
   "cell_type": "code",
   "execution_count": 1,
   "id": "84ac7e29",
   "metadata": {},
   "outputs": [
    {
     "name": "stderr",
     "output_type": "stream",
     "text": [
      "[nltk_data] Downloading package punkt to\n",
      "[nltk_data]     C:\\Users\\lomin\\AppData\\Roaming\\nltk_data...\n",
      "[nltk_data]   Package punkt is already up-to-date!\n",
      "[nltk_data] Downloading package averaged_perceptron_tagger to\n",
      "[nltk_data]     C:\\Users\\lomin\\AppData\\Roaming\\nltk_data...\n",
      "[nltk_data]   Package averaged_perceptron_tagger is already up-to-\n",
      "[nltk_data]       date!\n",
      "[nltk_data] Downloading package stopwords to\n",
      "[nltk_data]     C:\\Users\\lomin\\AppData\\Roaming\\nltk_data...\n",
      "[nltk_data]   Package stopwords is already up-to-date!\n"
     ]
    }
   ],
   "source": [
    "import pandas as pd\n",
    "import numpy as np\n",
    "import matplotlib.pyplot as plt\n",
    "import utils.helper_functions as helper_functions\n",
    "from collections import Counter\n",
    "import re\n",
    "from sentence_transformers import SentenceTransformer\n",
    "from nltk.tokenize import sent_tokenize"
   ]
  },
  {
   "cell_type": "markdown",
   "id": "a334e5c8",
   "metadata": {},
   "source": [
    "### Load Dataset Files"
   ]
  },
  {
   "cell_type": "code",
   "execution_count": 2,
   "id": "140880aa",
   "metadata": {},
   "outputs": [],
   "source": [
    "news_df = pd.read_pickle(\"Data/news_data.pkl\")\n",
    "news_feature_df = pd.read_pickle(\"Data/news_feature_df.pkl\")\n",
    "news_gpt_df = pd.read_pickle(\"Data/news_gpt_df.pkl\")\n",
    "\n",
    "wiki_df = pd.read_pickle(\"Data/wiki_Dataset.pkl\")\n",
    "gpt_df = pd.read_pickle(\"Data/ChatGPT_dataset.pkl\")\n",
    "\n",
    "en_wiki_features_df =  pd.read_pickle(\"Data/en_wiki_features_df.pkl\")\n",
    "gpt_features_df =  pd.read_pickle(\"Data/en_gpt_features_df.pkl\")\n",
    "\n",
    "de_wiki_features_df =  pd.read_pickle(\"Data/de_wiki_features_df.pkl\")\n",
    "de_gpt_features_df =  pd.read_pickle(\"Data/de_gpt_features_df.pkl\")\n",
    "\n",
    "other_df = pd.read_pickle(\"Data/other_sources/wiki_csai.pkl\")\n",
    "\n",
    "fr_wiki_features_df =  pd.read_pickle(\"Data/fr_wiki_features_df.pkl\")\n",
    "fr_gpt_features_df =  pd.read_pickle(\"Data/fr_gpt_features_df.pkl\")\n",
    "\n",
    "es_wiki_features_df =  pd.read_pickle(\"Data/es_wiki_features_df.pkl\")\n",
    "es_gpt_features_df =  pd.read_pickle(\"Data/es_gpt_features_df.pkl\")\n"
   ]
  },
  {
   "cell_type": "markdown",
   "id": "783b4165",
   "metadata": {},
   "source": [
    "# Derive TF-IDF Feature\n",
    "Process: TF-IDF derived for human-generated texts and subset of AI-generated texts (e.g., basic AI-rephrased texts)."
   ]
  },
  {
   "cell_type": "code",
   "execution_count": 40,
   "id": "729cf9a6",
   "metadata": {},
   "outputs": [],
   "source": [
    "from sklearn.feature_extraction.text import TfidfVectorizer\n",
    "\n",
    "def get_top_indices_and_vectorizer(texts):\n",
    "    # Initialize the TfidfVectorizer with uni- and bigram options\n",
    "    tfidf = TfidfVectorizer(ngram_range=(1, 2))\n",
    "    \n",
    "    # Fit the vectorizer on the texts\n",
    "    tfidf.fit(texts)\n",
    "    \n",
    "    # Get the feature names (uni- and bigrams)\n",
    "    feature_names = tfidf.get_feature_names()\n",
    "\n",
    "    # Get the document-term matrix (DTM) of the corpus\n",
    "    dtm = tfidf.transform(texts)\n",
    "\n",
    "    # Get the sum of the tf-idf scores for each feature across all documents\n",
    "    sum_tfidf = dtm.sum(axis=0)\n",
    "\n",
    "    # Convert the DTM to a dense matrix for easier manipulation\n",
    "    dense_dtm = dtm.todense()\n",
    "\n",
    "    # Get the indices of the top 500 features with the highest tf-idf scores\n",
    "    top_indices = sum_tfidf.argsort()[0, -500:]\n",
    "    top_indices = top_indices.tolist()[0]\n",
    "    top_features = []\n",
    "    # Get the feature names (uni- and bigrams) of the top 500 features\n",
    "    for top_val in top_indices:\n",
    "        top_features.append(feature_names[top_val])\n",
    "        \n",
    "    return tfidf, top_indices, top_features\n",
    "\n",
    "def calc_tfidf(text, vectorizer, top_indices):\n",
    "    # Transform the new document into a DTM\n",
    "    new_dtm = vectorizer.transform([text])\n",
    "\n",
    "    # Get the tf-idf scores for the top 500 features of the new document\n",
    "    new_tfidf = [new_dtm[0, i] for i in top_indices]\n",
    "    \n",
    "    return new_tfidf"
   ]
  },
  {
   "cell_type": "markdown",
   "id": "4b8b06ab",
   "metadata": {},
   "source": [
    "#### Define Datasets"
   ]
  },
  {
   "cell_type": "code",
   "execution_count": 41,
   "id": "99e0a108",
   "metadata": {},
   "outputs": [],
   "source": [
    "main_df = de_wiki_features_df.copy()\n",
    "gpt_df = de_gpt_features_df.copy()\n",
    "gpt_df"
   ]
  },
  {
   "cell_type": "markdown",
   "id": "7feb528d",
   "metadata": {},
   "source": [
    "#### Define Type of AI-written text"
   ]
  },
  {
   "cell_type": "code",
   "execution_count": 65,
   "id": "767c423e",
   "metadata": {},
   "outputs": [],
   "source": [
    "gpt_source = \"generated_base\"\n",
    "gpt_filtered = gpt_df[gpt_df[\"source\"] == gpt_source]"
   ]
  },
  {
   "cell_type": "markdown",
   "id": "61c886ee",
   "metadata": {},
   "source": [
    "#### Combine human-generated and AI-written texts\n",
    "Should be 100 human- and 100 AI-texts"
   ]
  },
  {
   "cell_type": "code",
   "execution_count": 66,
   "id": "073106e4",
   "metadata": {},
   "outputs": [
    {
     "data": {
      "text/plain": [
       "200"
      ]
     },
     "execution_count": 66,
     "metadata": {},
     "output_type": "execute_result"
    }
   ],
   "source": [
    "text_list = main_df.text.tolist() + gpt_filtered.text.tolist()\n",
    "len(text_list)"
   ]
  },
  {
   "cell_type": "markdown",
   "id": "e8bc1642",
   "metadata": {},
   "source": [
    "#### Get 500 top uni- and bi-grams"
   ]
  },
  {
   "cell_type": "code",
   "execution_count": 67,
   "id": "a49beb16",
   "metadata": {},
   "outputs": [],
   "source": [
    "tfidf, top_indices, top_features = get_top_indices_and_vectorizer(text_list)"
   ]
  },
  {
   "cell_type": "markdown",
   "id": "f4eb2da3",
   "metadata": {},
   "source": [
    "#### Calculate TF-IDF per text for human-generated texts"
   ]
  },
  {
   "cell_type": "code",
   "execution_count": 68,
   "id": "64a582cd",
   "metadata": {},
   "outputs": [],
   "source": [
    "main_df[\"tfidf_{}\".format(gpt_source)] = main_df.text.apply(lambda x: calc_tfidf(x, tfidf, top_indices))\n",
    "main_df"
   ]
  },
  {
   "cell_type": "code",
   "execution_count": 87,
   "id": "60184b2d",
   "metadata": {},
   "outputs": [],
   "source": [
    "#main_df.to_pickle(\"Data/de_wiki_features_df.pkl\")"
   ]
  },
  {
   "cell_type": "code",
   "execution_count": 70,
   "id": "4989a124",
   "metadata": {},
   "outputs": [],
   "source": []
  },
  {
   "cell_type": "markdown",
   "id": "18e5f6f4",
   "metadata": {},
   "source": [
    "#### Calculate TF-IDF per text for AI-generated texts"
   ]
  },
  {
   "cell_type": "code",
   "execution_count": 71,
   "id": "6056e860",
   "metadata": {},
   "outputs": [],
   "source": [
    "# add column \"tiidf\" if it does not exist yet\n",
    "#gpt_df[\"tfidf\"] = None\n",
    "\n",
    "for index, row in gpt_df.iterrows():\n",
    "    if row.source == gpt_source:\n",
    "        gpt_df.at[index, \"tfidf\"] = calc_tfidf(row.text, tfidf, top_indices)"
   ]
  },
  {
   "cell_type": "code",
   "execution_count": 73,
   "id": "58fb4b01",
   "metadata": {},
   "outputs": [
    {
     "data": {
      "text/html": [
       "<div>\n",
       "<style scoped>\n",
       "    .dataframe tbody tr th:only-of-type {\n",
       "        vertical-align: middle;\n",
       "    }\n",
       "\n",
       "    .dataframe tbody tr th {\n",
       "        vertical-align: top;\n",
       "    }\n",
       "\n",
       "    .dataframe thead th {\n",
       "        text-align: right;\n",
       "    }\n",
       "</style>\n",
       "<table border=\"1\" class=\"dataframe\">\n",
       "  <thead>\n",
       "    <tr style=\"text-align: right;\">\n",
       "      <th></th>\n",
       "      <th>title_en</th>\n",
       "      <th>title_language</th>\n",
       "      <th>language</th>\n",
       "      <th>date</th>\n",
       "      <th>category</th>\n",
       "      <th>text</th>\n",
       "      <th>character_count</th>\n",
       "      <th>words_count</th>\n",
       "      <th>source</th>\n",
       "      <th>author</th>\n",
       "      <th>...</th>\n",
       "      <th>ppl_max</th>\n",
       "      <th>ppl_mean</th>\n",
       "      <th>sentence_bert</th>\n",
       "      <th>sentence_bert_dist</th>\n",
       "      <th>Fold_1</th>\n",
       "      <th>Fold_2</th>\n",
       "      <th>Fold_3</th>\n",
       "      <th>Fold_4</th>\n",
       "      <th>Fold_5</th>\n",
       "      <th>tfidf</th>\n",
       "    </tr>\n",
       "  </thead>\n",
       "  <tbody>\n",
       "    <tr>\n",
       "      <th>8</th>\n",
       "      <td>Vienna</td>\n",
       "      <td>Wien</td>\n",
       "      <td>de</td>\n",
       "      <td>2023-04-10</td>\n",
       "      <td>geography</td>\n",
       "      <td>Die Republik Österreich hat neun Bundesländer,...</td>\n",
       "      <td>1020</td>\n",
       "      <td>144</td>\n",
       "      <td>rephrase_base</td>\n",
       "      <td>ChatGPT</td>\n",
       "      <td>...</td>\n",
       "      <td>41.739979</td>\n",
       "      <td>17.835852</td>\n",
       "      <td>[-0.0060472703, -0.0015850338, 0.012966703, 0....</td>\n",
       "      <td>0.718966</td>\n",
       "      <td>test</td>\n",
       "      <td>train</td>\n",
       "      <td>train</td>\n",
       "      <td>train</td>\n",
       "      <td>train</td>\n",
       "      <td>[0.0, 0.0, 0.0, 0.0, 0.0, 0.0, 0.0, 0.0, 0.0, ...</td>\n",
       "    </tr>\n",
       "    <tr>\n",
       "      <th>9</th>\n",
       "      <td>Vienna</td>\n",
       "      <td>Wien</td>\n",
       "      <td>de</td>\n",
       "      <td>2023-04-10</td>\n",
       "      <td>geography</td>\n",
       "      <td>Wien ist Österreichs Bundeshauptstadt und eine...</td>\n",
       "      <td>1167</td>\n",
       "      <td>155</td>\n",
       "      <td>rephrase_expert</td>\n",
       "      <td>ChatGPT</td>\n",
       "      <td>...</td>\n",
       "      <td>25.480711</td>\n",
       "      <td>16.853344</td>\n",
       "      <td>[-0.021692196, 0.0011809485, 0.02170519, 0.004...</td>\n",
       "      <td>0.703729</td>\n",
       "      <td>test</td>\n",
       "      <td>train</td>\n",
       "      <td>train</td>\n",
       "      <td>train</td>\n",
       "      <td>train</td>\n",
       "      <td>[0.0, 0.0, 0.0, 0.0, 0.0, 0.0, 0.0, 0.0, 0.0, ...</td>\n",
       "    </tr>\n",
       "    <tr>\n",
       "      <th>10</th>\n",
       "      <td>Vienna</td>\n",
       "      <td>Wien</td>\n",
       "      <td>de</td>\n",
       "      <td>2023-04-10</td>\n",
       "      <td>geography</td>\n",
       "      <td>Wien ist die Hauptstadt von Österreich und lie...</td>\n",
       "      <td>1840</td>\n",
       "      <td>264</td>\n",
       "      <td>generated_base</td>\n",
       "      <td>ChatGPT</td>\n",
       "      <td>...</td>\n",
       "      <td>61.625816</td>\n",
       "      <td>19.912042</td>\n",
       "      <td>[-0.013687565, -0.0053922576, -0.0005174721, 0...</td>\n",
       "      <td>0.741820</td>\n",
       "      <td>test</td>\n",
       "      <td>train</td>\n",
       "      <td>train</td>\n",
       "      <td>train</td>\n",
       "      <td>train</td>\n",
       "      <td>[0.0, 0.0, 0.0, 0.030498856144209132, 0.0, 0.0...</td>\n",
       "    </tr>\n",
       "    <tr>\n",
       "      <th>11</th>\n",
       "      <td>Vienna</td>\n",
       "      <td>Wien</td>\n",
       "      <td>de</td>\n",
       "      <td>2023-04-10</td>\n",
       "      <td>geography</td>\n",
       "      <td>Wien, die österreichische Hauptstadt, ist eine...</td>\n",
       "      <td>1297</td>\n",
       "      <td>189</td>\n",
       "      <td>generated_expert</td>\n",
       "      <td>ChatGPT</td>\n",
       "      <td>...</td>\n",
       "      <td>24.912964</td>\n",
       "      <td>14.705893</td>\n",
       "      <td>[0.00030970015, -0.023622207, 0.031076685, 0.0...</td>\n",
       "      <td>0.715953</td>\n",
       "      <td>test</td>\n",
       "      <td>train</td>\n",
       "      <td>train</td>\n",
       "      <td>train</td>\n",
       "      <td>train</td>\n",
       "      <td>[0.0, 0.0, 0.0, 0.0, 0.0, 0.03894820279197, 0....</td>\n",
       "    </tr>\n",
       "    <tr>\n",
       "      <th>16</th>\n",
       "      <td>Himalayas</td>\n",
       "      <td>Himalaya</td>\n",
       "      <td>de</td>\n",
       "      <td>2023-04-10</td>\n",
       "      <td>geography</td>\n",
       "      <td>Asien beheimatet das höchste Gebirge der Erde,...</td>\n",
       "      <td>888</td>\n",
       "      <td>118</td>\n",
       "      <td>rephrase_base</td>\n",
       "      <td>ChatGPT</td>\n",
       "      <td>...</td>\n",
       "      <td>72.549171</td>\n",
       "      <td>24.495172</td>\n",
       "      <td>[-0.0005591136, 0.035370592, -0.0149539765, -0...</td>\n",
       "      <td>0.663978</td>\n",
       "      <td>train</td>\n",
       "      <td>train</td>\n",
       "      <td>train</td>\n",
       "      <td>train</td>\n",
       "      <td>train</td>\n",
       "      <td>[0.0, 0.0, 0.0, 0.0, 0.0, 0.0, 0.0, 0.0, 0.0, ...</td>\n",
       "    </tr>\n",
       "    <tr>\n",
       "      <th>...</th>\n",
       "      <td>...</td>\n",
       "      <td>...</td>\n",
       "      <td>...</td>\n",
       "      <td>...</td>\n",
       "      <td>...</td>\n",
       "      <td>...</td>\n",
       "      <td>...</td>\n",
       "      <td>...</td>\n",
       "      <td>...</td>\n",
       "      <td>...</td>\n",
       "      <td>...</td>\n",
       "      <td>...</td>\n",
       "      <td>...</td>\n",
       "      <td>...</td>\n",
       "      <td>...</td>\n",
       "      <td>...</td>\n",
       "      <td>...</td>\n",
       "      <td>...</td>\n",
       "      <td>...</td>\n",
       "      <td>...</td>\n",
       "      <td>...</td>\n",
       "    </tr>\n",
       "    <tr>\n",
       "      <th>1583</th>\n",
       "      <td>Constitution</td>\n",
       "      <td>Verfassung</td>\n",
       "      <td>de</td>\n",
       "      <td>2023-04-11</td>\n",
       "      <td>politics</td>\n",
       "      <td>Die Verfassung! Was für ein wichtiges Thema! D...</td>\n",
       "      <td>1771</td>\n",
       "      <td>247</td>\n",
       "      <td>generated_expert</td>\n",
       "      <td>ChatGPT</td>\n",
       "      <td>...</td>\n",
       "      <td>4847.800781</td>\n",
       "      <td>260.403628</td>\n",
       "      <td>[0.022768332, 0.0022064543, -0.0016067001, 0.0...</td>\n",
       "      <td>0.727045</td>\n",
       "      <td>train</td>\n",
       "      <td>train</td>\n",
       "      <td>train</td>\n",
       "      <td>train</td>\n",
       "      <td>train</td>\n",
       "      <td>[0.0, 0.0, 0.0, 0.0, 0.0, 0.0, 0.0, 0.0, 0.0, ...</td>\n",
       "    </tr>\n",
       "    <tr>\n",
       "      <th>1596</th>\n",
       "      <td>Electronegativity</td>\n",
       "      <td>Elektronegativität</td>\n",
       "      <td>de</td>\n",
       "      <td>2023-04-11</td>\n",
       "      <td>chemistry</td>\n",
       "      <td>Die Fähigkeit von Atomen, bindende Elektronenp...</td>\n",
       "      <td>1517</td>\n",
       "      <td>196</td>\n",
       "      <td>rephrase_base</td>\n",
       "      <td>ChatGPT</td>\n",
       "      <td>...</td>\n",
       "      <td>63.900864</td>\n",
       "      <td>26.798258</td>\n",
       "      <td>[-0.014504041, -0.01202015, -0.009371709, -0.0...</td>\n",
       "      <td>0.632077</td>\n",
       "      <td>train</td>\n",
       "      <td>train</td>\n",
       "      <td>train</td>\n",
       "      <td>train</td>\n",
       "      <td>train</td>\n",
       "      <td>[0.0, 0.0, 0.0, 0.0, 0.03402081860285245, 0.0,...</td>\n",
       "    </tr>\n",
       "    <tr>\n",
       "      <th>1597</th>\n",
       "      <td>Electronegativity</td>\n",
       "      <td>Elektronegativität</td>\n",
       "      <td>de</td>\n",
       "      <td>2023-04-11</td>\n",
       "      <td>chemistry</td>\n",
       "      <td>Die Elektronegativität gibt an, wie gut ein At...</td>\n",
       "      <td>949</td>\n",
       "      <td>129</td>\n",
       "      <td>rephrase_expert</td>\n",
       "      <td>ChatGPT</td>\n",
       "      <td>...</td>\n",
       "      <td>68.056511</td>\n",
       "      <td>38.604194</td>\n",
       "      <td>[-0.014926519, -0.010599102, 0.00010431206, -0...</td>\n",
       "      <td>0.620899</td>\n",
       "      <td>train</td>\n",
       "      <td>train</td>\n",
       "      <td>train</td>\n",
       "      <td>train</td>\n",
       "      <td>train</td>\n",
       "      <td>[0.0, 0.0, 0.0, 0.0, 0.0, 0.0, 0.0, 0.0, 0.0, ...</td>\n",
       "    </tr>\n",
       "    <tr>\n",
       "      <th>1598</th>\n",
       "      <td>Electronegativity</td>\n",
       "      <td>Elektronegativität</td>\n",
       "      <td>de</td>\n",
       "      <td>2023-04-11</td>\n",
       "      <td>chemistry</td>\n",
       "      <td>Die Elektronegativität beschreibt die Fähigkei...</td>\n",
       "      <td>1522</td>\n",
       "      <td>195</td>\n",
       "      <td>generated_base</td>\n",
       "      <td>ChatGPT</td>\n",
       "      <td>...</td>\n",
       "      <td>31.118761</td>\n",
       "      <td>17.95147</td>\n",
       "      <td>[0.0018844944, -0.016691329, -0.03601046, -0.0...</td>\n",
       "      <td>0.624994</td>\n",
       "      <td>train</td>\n",
       "      <td>train</td>\n",
       "      <td>train</td>\n",
       "      <td>train</td>\n",
       "      <td>train</td>\n",
       "      <td>[0.0, 0.0, 0.0, 0.0, 0.0, 0.0, 0.0, 0.0, 0.0, ...</td>\n",
       "    </tr>\n",
       "    <tr>\n",
       "      <th>1599</th>\n",
       "      <td>Electronegativity</td>\n",
       "      <td>Elektronegativität</td>\n",
       "      <td>de</td>\n",
       "      <td>2023-04-11</td>\n",
       "      <td>chemistry</td>\n",
       "      <td>Die Elektronegativität ist eine wichtige Eigen...</td>\n",
       "      <td>1505</td>\n",
       "      <td>201</td>\n",
       "      <td>generated_expert</td>\n",
       "      <td>ChatGPT</td>\n",
       "      <td>...</td>\n",
       "      <td>51.120129</td>\n",
       "      <td>24.584899</td>\n",
       "      <td>[-0.0013022688, -0.033272035, -0.027497053, -0...</td>\n",
       "      <td>0.567622</td>\n",
       "      <td>train</td>\n",
       "      <td>train</td>\n",
       "      <td>train</td>\n",
       "      <td>train</td>\n",
       "      <td>train</td>\n",
       "      <td>[0.0, 0.0, 0.0, 0.0, 0.0, 0.0, 0.0, 0.0, 0.0, ...</td>\n",
       "    </tr>\n",
       "  </tbody>\n",
       "</table>\n",
       "<p>400 rows × 50 columns</p>\n",
       "</div>"
      ],
      "text/plain": [
       "               title_en      title_language language        date   category  \\\n",
       "8                Vienna                Wien       de  2023-04-10  geography   \n",
       "9                Vienna                Wien       de  2023-04-10  geography   \n",
       "10               Vienna                Wien       de  2023-04-10  geography   \n",
       "11               Vienna                Wien       de  2023-04-10  geography   \n",
       "16            Himalayas            Himalaya       de  2023-04-10  geography   \n",
       "...                 ...                 ...      ...         ...        ...   \n",
       "1583       Constitution          Verfassung       de  2023-04-11   politics   \n",
       "1596  Electronegativity  Elektronegativität       de  2023-04-11  chemistry   \n",
       "1597  Electronegativity  Elektronegativität       de  2023-04-11  chemistry   \n",
       "1598  Electronegativity  Elektronegativität       de  2023-04-11  chemistry   \n",
       "1599  Electronegativity  Elektronegativität       de  2023-04-11  chemistry   \n",
       "\n",
       "                                                   text  character_count  \\\n",
       "8     Die Republik Österreich hat neun Bundesländer,...             1020   \n",
       "9     Wien ist Österreichs Bundeshauptstadt und eine...             1167   \n",
       "10    Wien ist die Hauptstadt von Österreich und lie...             1840   \n",
       "11    Wien, die österreichische Hauptstadt, ist eine...             1297   \n",
       "16    Asien beheimatet das höchste Gebirge der Erde,...              888   \n",
       "...                                                 ...              ...   \n",
       "1583  Die Verfassung! Was für ein wichtiges Thema! D...             1771   \n",
       "1596  Die Fähigkeit von Atomen, bindende Elektronenp...             1517   \n",
       "1597  Die Elektronegativität gibt an, wie gut ein At...              949   \n",
       "1598  Die Elektronegativität beschreibt die Fähigkei...             1522   \n",
       "1599  Die Elektronegativität ist eine wichtige Eigen...             1505   \n",
       "\n",
       "      words_count            source   author  ...      ppl_max    ppl_mean  \\\n",
       "8             144     rephrase_base  ChatGPT  ...    41.739979   17.835852   \n",
       "9             155   rephrase_expert  ChatGPT  ...    25.480711   16.853344   \n",
       "10            264    generated_base  ChatGPT  ...    61.625816   19.912042   \n",
       "11            189  generated_expert  ChatGPT  ...    24.912964   14.705893   \n",
       "16            118     rephrase_base  ChatGPT  ...    72.549171   24.495172   \n",
       "...           ...               ...      ...  ...          ...         ...   \n",
       "1583          247  generated_expert  ChatGPT  ...  4847.800781  260.403628   \n",
       "1596          196     rephrase_base  ChatGPT  ...    63.900864   26.798258   \n",
       "1597          129   rephrase_expert  ChatGPT  ...    68.056511   38.604194   \n",
       "1598          195    generated_base  ChatGPT  ...    31.118761    17.95147   \n",
       "1599          201  generated_expert  ChatGPT  ...    51.120129   24.584899   \n",
       "\n",
       "                                          sentence_bert  sentence_bert_dist  \\\n",
       "8     [-0.0060472703, -0.0015850338, 0.012966703, 0....            0.718966   \n",
       "9     [-0.021692196, 0.0011809485, 0.02170519, 0.004...            0.703729   \n",
       "10    [-0.013687565, -0.0053922576, -0.0005174721, 0...            0.741820   \n",
       "11    [0.00030970015, -0.023622207, 0.031076685, 0.0...            0.715953   \n",
       "16    [-0.0005591136, 0.035370592, -0.0149539765, -0...            0.663978   \n",
       "...                                                 ...                 ...   \n",
       "1583  [0.022768332, 0.0022064543, -0.0016067001, 0.0...            0.727045   \n",
       "1596  [-0.014504041, -0.01202015, -0.009371709, -0.0...            0.632077   \n",
       "1597  [-0.014926519, -0.010599102, 0.00010431206, -0...            0.620899   \n",
       "1598  [0.0018844944, -0.016691329, -0.03601046, -0.0...            0.624994   \n",
       "1599  [-0.0013022688, -0.033272035, -0.027497053, -0...            0.567622   \n",
       "\n",
       "      Fold_1  Fold_2  Fold_3  Fold_4  Fold_5  \\\n",
       "8       test   train   train   train   train   \n",
       "9       test   train   train   train   train   \n",
       "10      test   train   train   train   train   \n",
       "11      test   train   train   train   train   \n",
       "16     train   train   train   train   train   \n",
       "...      ...     ...     ...     ...     ...   \n",
       "1583   train   train   train   train   train   \n",
       "1596   train   train   train   train   train   \n",
       "1597   train   train   train   train   train   \n",
       "1598   train   train   train   train   train   \n",
       "1599   train   train   train   train   train   \n",
       "\n",
       "                                                  tfidf  \n",
       "8     [0.0, 0.0, 0.0, 0.0, 0.0, 0.0, 0.0, 0.0, 0.0, ...  \n",
       "9     [0.0, 0.0, 0.0, 0.0, 0.0, 0.0, 0.0, 0.0, 0.0, ...  \n",
       "10    [0.0, 0.0, 0.0, 0.030498856144209132, 0.0, 0.0...  \n",
       "11    [0.0, 0.0, 0.0, 0.0, 0.0, 0.03894820279197, 0....  \n",
       "16    [0.0, 0.0, 0.0, 0.0, 0.0, 0.0, 0.0, 0.0, 0.0, ...  \n",
       "...                                                 ...  \n",
       "1583  [0.0, 0.0, 0.0, 0.0, 0.0, 0.0, 0.0, 0.0, 0.0, ...  \n",
       "1596  [0.0, 0.0, 0.0, 0.0, 0.03402081860285245, 0.0,...  \n",
       "1597  [0.0, 0.0, 0.0, 0.0, 0.0, 0.0, 0.0, 0.0, 0.0, ...  \n",
       "1598  [0.0, 0.0, 0.0, 0.0, 0.0, 0.0, 0.0, 0.0, 0.0, ...  \n",
       "1599  [0.0, 0.0, 0.0, 0.0, 0.0, 0.0, 0.0, 0.0, 0.0, ...  \n",
       "\n",
       "[400 rows x 50 columns]"
      ]
     },
     "execution_count": 73,
     "metadata": {},
     "output_type": "execute_result"
    }
   ],
   "source": [
    "gpt_df"
   ]
  },
  {
   "cell_type": "code",
   "execution_count": 86,
   "id": "6d1f9c37",
   "metadata": {},
   "outputs": [],
   "source": [
    "#gpt_df.to_pickle(\"Data/de_gpt_features_df.pkl\")"
   ]
  },
  {
   "cell_type": "markdown",
   "id": "58d489a0",
   "metadata": {},
   "source": [
    "## Create Sub-Datasets"
   ]
  },
  {
   "cell_type": "code",
   "execution_count": 43,
   "id": "47f208f2",
   "metadata": {},
   "outputs": [
    {
     "data": {
      "text/plain": [
       "'\\ngpt_en_rephr_b = news_feature_df[news_feature_df[\"source\"] == \"rephrase_base\"]\\ngpt_en_rephr_e = news_feature_df[news_feature_df[\"source\"] == \"rephrase_expert\"]\\ngpt_en_gen_b = news_feature_df[news_feature_df[\"source\"] == \"generated_base\"]\\ngpt_en_gen_e = news_feature_df[news_feature_df[\"source\"] == \"generated_expert\"]'"
      ]
     },
     "execution_count": 43,
     "metadata": {},
     "output_type": "execute_result"
    }
   ],
   "source": [
    "# Filter wiki df for language only\n",
    "wiki_de = wiki_df[wiki_df['language'] == \"de\"]\n",
    "\n",
    "gpt_de = gpt_df[gpt_df['language'] == \"de\"]\n",
    "\"\"\"\n",
    "gpt_en_rephr_b = news_feature_df[news_feature_df[\"source\"] == \"rephrase_base\"]\n",
    "gpt_en_rephr_e = news_feature_df[news_feature_df[\"source\"] == \"rephrase_expert\"]\n",
    "gpt_en_gen_b = news_feature_df[news_feature_df[\"source\"] == \"generated_base\"]\n",
    "gpt_en_gen_e = news_feature_df[news_feature_df[\"source\"] == \"generated_expert\"]\"\"\""
   ]
  },
  {
   "cell_type": "markdown",
   "id": "5bab60f9",
   "metadata": {},
   "source": [
    "## Create Feature DFs"
   ]
  },
  {
   "cell_type": "markdown",
   "id": "60c22d7b",
   "metadata": {},
   "source": [
    "### Define DF"
   ]
  },
  {
   "cell_type": "code",
   "execution_count": 44,
   "id": "009aa68c",
   "metadata": {},
   "outputs": [
    {
     "data": {
      "text/html": [
       "<div>\n",
       "<style scoped>\n",
       "    .dataframe tbody tr th:only-of-type {\n",
       "        vertical-align: middle;\n",
       "    }\n",
       "\n",
       "    .dataframe tbody tr th {\n",
       "        vertical-align: top;\n",
       "    }\n",
       "\n",
       "    .dataframe thead th {\n",
       "        text-align: right;\n",
       "    }\n",
       "</style>\n",
       "<table border=\"1\" class=\"dataframe\">\n",
       "  <thead>\n",
       "    <tr style=\"text-align: right;\">\n",
       "      <th></th>\n",
       "      <th>title_en</th>\n",
       "      <th>title_language</th>\n",
       "      <th>language</th>\n",
       "      <th>date</th>\n",
       "      <th>category</th>\n",
       "      <th>text</th>\n",
       "      <th>character_count</th>\n",
       "      <th>words_count</th>\n",
       "      <th>source</th>\n",
       "      <th>author</th>\n",
       "      <th>gpt_feature</th>\n",
       "    </tr>\n",
       "  </thead>\n",
       "  <tbody>\n",
       "    <tr>\n",
       "      <th>8</th>\n",
       "      <td>Vienna</td>\n",
       "      <td>Wien</td>\n",
       "      <td>de</td>\n",
       "      <td>2023-04-10</td>\n",
       "      <td>geography</td>\n",
       "      <td>Die Republik Österreich hat neun Bundesländer,...</td>\n",
       "      <td>1020</td>\n",
       "      <td>144</td>\n",
       "      <td>rephrase_base</td>\n",
       "      <td>ChatGPT</td>\n",
       "      <td>Ja, dieser Text wurde von ChatGPT generiert.</td>\n",
       "    </tr>\n",
       "    <tr>\n",
       "      <th>9</th>\n",
       "      <td>Vienna</td>\n",
       "      <td>Wien</td>\n",
       "      <td>de</td>\n",
       "      <td>2023-04-10</td>\n",
       "      <td>geography</td>\n",
       "      <td>Wien ist Österreichs Bundeshauptstadt und eine...</td>\n",
       "      <td>1167</td>\n",
       "      <td>155</td>\n",
       "      <td>rephrase_expert</td>\n",
       "      <td>ChatGPT</td>\n",
       "      <td>Ja, der Text wurde von ChatGPT generiert.</td>\n",
       "    </tr>\n",
       "    <tr>\n",
       "      <th>10</th>\n",
       "      <td>Vienna</td>\n",
       "      <td>Wien</td>\n",
       "      <td>de</td>\n",
       "      <td>2023-04-10</td>\n",
       "      <td>geography</td>\n",
       "      <td>Wien ist die Hauptstadt von Österreich und lie...</td>\n",
       "      <td>1840</td>\n",
       "      <td>264</td>\n",
       "      <td>generated_base</td>\n",
       "      <td>ChatGPT</td>\n",
       "      <td>Der Text wurde von einem menschlichen Autor ge...</td>\n",
       "    </tr>\n",
       "    <tr>\n",
       "      <th>11</th>\n",
       "      <td>Vienna</td>\n",
       "      <td>Wien</td>\n",
       "      <td>de</td>\n",
       "      <td>2023-04-10</td>\n",
       "      <td>geography</td>\n",
       "      <td>Wien, die österreichische Hauptstadt, ist eine...</td>\n",
       "      <td>1297</td>\n",
       "      <td>189</td>\n",
       "      <td>generated_expert</td>\n",
       "      <td>ChatGPT</td>\n",
       "      <td>Ja, dieser Text wurde von ChatGPT generiert.</td>\n",
       "    </tr>\n",
       "    <tr>\n",
       "      <th>16</th>\n",
       "      <td>Himalayas</td>\n",
       "      <td>Himalaya</td>\n",
       "      <td>de</td>\n",
       "      <td>2023-04-10</td>\n",
       "      <td>geography</td>\n",
       "      <td>Asien beheimatet das höchste Gebirge der Erde,...</td>\n",
       "      <td>888</td>\n",
       "      <td>118</td>\n",
       "      <td>rephrase_base</td>\n",
       "      <td>ChatGPT</td>\n",
       "      <td>Ja, der folgende Text wurde von ChatGPT generi...</td>\n",
       "    </tr>\n",
       "    <tr>\n",
       "      <th>...</th>\n",
       "      <td>...</td>\n",
       "      <td>...</td>\n",
       "      <td>...</td>\n",
       "      <td>...</td>\n",
       "      <td>...</td>\n",
       "      <td>...</td>\n",
       "      <td>...</td>\n",
       "      <td>...</td>\n",
       "      <td>...</td>\n",
       "      <td>...</td>\n",
       "      <td>...</td>\n",
       "    </tr>\n",
       "    <tr>\n",
       "      <th>1583</th>\n",
       "      <td>Constitution</td>\n",
       "      <td>Verfassung</td>\n",
       "      <td>de</td>\n",
       "      <td>2023-04-11</td>\n",
       "      <td>politics</td>\n",
       "      <td>Die Verfassung! Was für ein wichtiges Thema! D...</td>\n",
       "      <td>1771</td>\n",
       "      <td>247</td>\n",
       "      <td>generated_expert</td>\n",
       "      <td>ChatGPT</td>\n",
       "      <td>Ja, der folgende Text wurde von ChatGPT generi...</td>\n",
       "    </tr>\n",
       "    <tr>\n",
       "      <th>1596</th>\n",
       "      <td>Electronegativity</td>\n",
       "      <td>Elektronegativität</td>\n",
       "      <td>de</td>\n",
       "      <td>2023-04-11</td>\n",
       "      <td>chemistry</td>\n",
       "      <td>Die Fähigkeit von Atomen, bindende Elektronenp...</td>\n",
       "      <td>1517</td>\n",
       "      <td>196</td>\n",
       "      <td>rephrase_base</td>\n",
       "      <td>ChatGPT</td>\n",
       "      <td>Ja, der folgende Text wurde von ChatGPT generi...</td>\n",
       "    </tr>\n",
       "    <tr>\n",
       "      <th>1597</th>\n",
       "      <td>Electronegativity</td>\n",
       "      <td>Elektronegativität</td>\n",
       "      <td>de</td>\n",
       "      <td>2023-04-11</td>\n",
       "      <td>chemistry</td>\n",
       "      <td>Die Elektronegativität gibt an, wie gut ein At...</td>\n",
       "      <td>949</td>\n",
       "      <td>129</td>\n",
       "      <td>rephrase_expert</td>\n",
       "      <td>ChatGPT</td>\n",
       "      <td>Ja, dieser Text wurde von ChatGPT generiert.</td>\n",
       "    </tr>\n",
       "    <tr>\n",
       "      <th>1598</th>\n",
       "      <td>Electronegativity</td>\n",
       "      <td>Elektronegativität</td>\n",
       "      <td>de</td>\n",
       "      <td>2023-04-11</td>\n",
       "      <td>chemistry</td>\n",
       "      <td>Die Elektronegativität beschreibt die Fähigkei...</td>\n",
       "      <td>1522</td>\n",
       "      <td>195</td>\n",
       "      <td>generated_base</td>\n",
       "      <td>ChatGPT</td>\n",
       "      <td>Ja, dieser Text wurde von ChatGPT generiert.</td>\n",
       "    </tr>\n",
       "    <tr>\n",
       "      <th>1599</th>\n",
       "      <td>Electronegativity</td>\n",
       "      <td>Elektronegativität</td>\n",
       "      <td>de</td>\n",
       "      <td>2023-04-11</td>\n",
       "      <td>chemistry</td>\n",
       "      <td>Die Elektronegativität ist eine wichtige Eigen...</td>\n",
       "      <td>1505</td>\n",
       "      <td>201</td>\n",
       "      <td>generated_expert</td>\n",
       "      <td>ChatGPT</td>\n",
       "      <td>Ja, der Text wurde von ChatGPT generiert.</td>\n",
       "    </tr>\n",
       "  </tbody>\n",
       "</table>\n",
       "<p>400 rows × 11 columns</p>\n",
       "</div>"
      ],
      "text/plain": [
       "               title_en      title_language language        date   category  \\\n",
       "8                Vienna                Wien       de  2023-04-10  geography   \n",
       "9                Vienna                Wien       de  2023-04-10  geography   \n",
       "10               Vienna                Wien       de  2023-04-10  geography   \n",
       "11               Vienna                Wien       de  2023-04-10  geography   \n",
       "16            Himalayas            Himalaya       de  2023-04-10  geography   \n",
       "...                 ...                 ...      ...         ...        ...   \n",
       "1583       Constitution          Verfassung       de  2023-04-11   politics   \n",
       "1596  Electronegativity  Elektronegativität       de  2023-04-11  chemistry   \n",
       "1597  Electronegativity  Elektronegativität       de  2023-04-11  chemistry   \n",
       "1598  Electronegativity  Elektronegativität       de  2023-04-11  chemistry   \n",
       "1599  Electronegativity  Elektronegativität       de  2023-04-11  chemistry   \n",
       "\n",
       "                                                   text  character_count  \\\n",
       "8     Die Republik Österreich hat neun Bundesländer,...             1020   \n",
       "9     Wien ist Österreichs Bundeshauptstadt und eine...             1167   \n",
       "10    Wien ist die Hauptstadt von Österreich und lie...             1840   \n",
       "11    Wien, die österreichische Hauptstadt, ist eine...             1297   \n",
       "16    Asien beheimatet das höchste Gebirge der Erde,...              888   \n",
       "...                                                 ...              ...   \n",
       "1583  Die Verfassung! Was für ein wichtiges Thema! D...             1771   \n",
       "1596  Die Fähigkeit von Atomen, bindende Elektronenp...             1517   \n",
       "1597  Die Elektronegativität gibt an, wie gut ein At...              949   \n",
       "1598  Die Elektronegativität beschreibt die Fähigkei...             1522   \n",
       "1599  Die Elektronegativität ist eine wichtige Eigen...             1505   \n",
       "\n",
       "      words_count            source   author  \\\n",
       "8             144     rephrase_base  ChatGPT   \n",
       "9             155   rephrase_expert  ChatGPT   \n",
       "10            264    generated_base  ChatGPT   \n",
       "11            189  generated_expert  ChatGPT   \n",
       "16            118     rephrase_base  ChatGPT   \n",
       "...           ...               ...      ...   \n",
       "1583          247  generated_expert  ChatGPT   \n",
       "1596          196     rephrase_base  ChatGPT   \n",
       "1597          129   rephrase_expert  ChatGPT   \n",
       "1598          195    generated_base  ChatGPT   \n",
       "1599          201  generated_expert  ChatGPT   \n",
       "\n",
       "                                            gpt_feature  \n",
       "8          Ja, dieser Text wurde von ChatGPT generiert.  \n",
       "9             Ja, der Text wurde von ChatGPT generiert.  \n",
       "10    Der Text wurde von einem menschlichen Autor ge...  \n",
       "11         Ja, dieser Text wurde von ChatGPT generiert.  \n",
       "16    Ja, der folgende Text wurde von ChatGPT generi...  \n",
       "...                                                 ...  \n",
       "1583  Ja, der folgende Text wurde von ChatGPT generi...  \n",
       "1596  Ja, der folgende Text wurde von ChatGPT generi...  \n",
       "1597       Ja, dieser Text wurde von ChatGPT generiert.  \n",
       "1598       Ja, dieser Text wurde von ChatGPT generiert.  \n",
       "1599          Ja, der Text wurde von ChatGPT generiert.  \n",
       "\n",
       "[400 rows x 11 columns]"
      ]
     },
     "execution_count": 44,
     "metadata": {},
     "output_type": "execute_result"
    }
   ],
   "source": [
    "df = gpt_de.copy()\n",
    "df"
   ]
  },
  {
   "cell_type": "markdown",
   "id": "ac290b81",
   "metadata": {},
   "source": [
    "### Language"
   ]
  },
  {
   "cell_type": "code",
   "execution_count": 37,
   "id": "74ef6862",
   "metadata": {},
   "outputs": [],
   "source": [
    "lang = \"de\"\n",
    "lang_tool_lang = \"de-DE\""
   ]
  },
  {
   "cell_type": "markdown",
   "id": "f4669505",
   "metadata": {},
   "source": [
    "### Derive Features"
   ]
  },
  {
   "cell_type": "code",
   "execution_count": 45,
   "id": "14dfbf44",
   "metadata": {
    "scrolled": true
   },
   "outputs": [
    {
     "name": "stderr",
     "output_type": "stream",
     "text": [
      "Special tokens have been added in the vocabulary, make sure the associated word embeddings are fine-tuned or trained.\n",
      "Using pad_token, but it is not set yet.\n"
     ]
    },
    {
     "data": {
      "application/vnd.jupyter.widget-view+json": {
       "model_id": "be14d5b4f28341efbe1c3b784d34ae1d",
       "version_major": 2,
       "version_minor": 0
      },
      "text/plain": [
       "  0%|          | 0/1 [00:00<?, ?it/s]"
      ]
     },
     "metadata": {},
     "output_type": "display_data"
    },
    {
     "name": "stderr",
     "output_type": "stream",
     "text": [
      "Special tokens have been added in the vocabulary, make sure the associated word embeddings are fine-tuned or trained.\n",
      "Using pad_token, but it is not set yet.\n"
     ]
    },
    {
     "data": {
      "application/vnd.jupyter.widget-view+json": {
       "model_id": "a24bb421c63e4b269534fb57adb87985",
       "version_major": 2,
       "version_minor": 0
      },
      "text/plain": [
       "  0%|          | 0/1 [00:00<?, ?it/s]"
      ]
     },
     "metadata": {},
     "output_type": "display_data"
    },
    {
     "name": "stderr",
     "output_type": "stream",
     "text": [
      "Special tokens have been added in the vocabulary, make sure the associated word embeddings are fine-tuned or trained.\n",
      "Using pad_token, but it is not set yet.\n"
     ]
    },
    {
     "data": {
      "application/vnd.jupyter.widget-view+json": {
       "model_id": "d49ba58352f84b4ebf35aee851f46f88",
       "version_major": 2,
       "version_minor": 0
      },
      "text/plain": [
       "  0%|          | 0/1 [00:00<?, ?it/s]"
      ]
     },
     "metadata": {},
     "output_type": "display_data"
    },
    {
     "name": "stderr",
     "output_type": "stream",
     "text": [
      "Special tokens have been added in the vocabulary, make sure the associated word embeddings are fine-tuned or trained.\n",
      "Using pad_token, but it is not set yet.\n"
     ]
    },
    {
     "data": {
      "application/vnd.jupyter.widget-view+json": {
       "model_id": "31165422986949f980afb457b7b7ccb6",
       "version_major": 2,
       "version_minor": 0
      },
      "text/plain": [
       "  0%|          | 0/1 [00:00<?, ?it/s]"
      ]
     },
     "metadata": {},
     "output_type": "display_data"
    },
    {
     "name": "stderr",
     "output_type": "stream",
     "text": [
      "Special tokens have been added in the vocabulary, make sure the associated word embeddings are fine-tuned or trained.\n",
      "Using pad_token, but it is not set yet.\n"
     ]
    },
    {
     "data": {
      "application/vnd.jupyter.widget-view+json": {
       "model_id": "f56f26a928204d74ad2658e52c03f318",
       "version_major": 2,
       "version_minor": 0
      },
      "text/plain": [
       "  0%|          | 0/1 [00:00<?, ?it/s]"
      ]
     },
     "metadata": {},
     "output_type": "display_data"
    },
    {
     "name": "stderr",
     "output_type": "stream",
     "text": [
      "Special tokens have been added in the vocabulary, make sure the associated word embeddings are fine-tuned or trained.\n",
      "Using pad_token, but it is not set yet.\n"
     ]
    },
    {
     "data": {
      "application/vnd.jupyter.widget-view+json": {
       "model_id": "bdacfcc877d34e4384ca2cb1f70fb92c",
       "version_major": 2,
       "version_minor": 0
      },
      "text/plain": [
       "  0%|          | 0/1 [00:00<?, ?it/s]"
      ]
     },
     "metadata": {},
     "output_type": "display_data"
    },
    {
     "name": "stderr",
     "output_type": "stream",
     "text": [
      "Special tokens have been added in the vocabulary, make sure the associated word embeddings are fine-tuned or trained.\n",
      "Using pad_token, but it is not set yet.\n"
     ]
    },
    {
     "data": {
      "application/vnd.jupyter.widget-view+json": {
       "model_id": "09902b8f8f1141c1bb8e6c2956ffabe2",
       "version_major": 2,
       "version_minor": 0
      },
      "text/plain": [
       "  0%|          | 0/1 [00:00<?, ?it/s]"
      ]
     },
     "metadata": {},
     "output_type": "display_data"
    },
    {
     "name": "stderr",
     "output_type": "stream",
     "text": [
      "Special tokens have been added in the vocabulary, make sure the associated word embeddings are fine-tuned or trained.\n",
      "Using pad_token, but it is not set yet.\n"
     ]
    },
    {
     "data": {
      "application/vnd.jupyter.widget-view+json": {
       "model_id": "f74f388623144e048b2c7215b2a2d7a2",
       "version_major": 2,
       "version_minor": 0
      },
      "text/plain": [
       "  0%|          | 0/1 [00:00<?, ?it/s]"
      ]
     },
     "metadata": {},
     "output_type": "display_data"
    },
    {
     "name": "stderr",
     "output_type": "stream",
     "text": [
      "Special tokens have been added in the vocabulary, make sure the associated word embeddings are fine-tuned or trained.\n",
      "Using pad_token, but it is not set yet.\n"
     ]
    },
    {
     "data": {
      "application/vnd.jupyter.widget-view+json": {
       "model_id": "f24d3fb6253d49faa888c7d9a3f40998",
       "version_major": 2,
       "version_minor": 0
      },
      "text/plain": [
       "  0%|          | 0/1 [00:00<?, ?it/s]"
      ]
     },
     "metadata": {},
     "output_type": "display_data"
    },
    {
     "name": "stderr",
     "output_type": "stream",
     "text": [
      "Special tokens have been added in the vocabulary, make sure the associated word embeddings are fine-tuned or trained.\n",
      "Using pad_token, but it is not set yet.\n"
     ]
    },
    {
     "data": {
      "application/vnd.jupyter.widget-view+json": {
       "model_id": "e2a7aed550c8468a9bfb0a00b85feec9",
       "version_major": 2,
       "version_minor": 0
      },
      "text/plain": [
       "  0%|          | 0/1 [00:00<?, ?it/s]"
      ]
     },
     "metadata": {},
     "output_type": "display_data"
    },
    {
     "name": "stderr",
     "output_type": "stream",
     "text": [
      "Special tokens have been added in the vocabulary, make sure the associated word embeddings are fine-tuned or trained.\n",
      "Using pad_token, but it is not set yet.\n"
     ]
    },
    {
     "data": {
      "application/vnd.jupyter.widget-view+json": {
       "model_id": "796fa919fe8c4f23b23e716b7c2ce839",
       "version_major": 2,
       "version_minor": 0
      },
      "text/plain": [
       "  0%|          | 0/1 [00:00<?, ?it/s]"
      ]
     },
     "metadata": {},
     "output_type": "display_data"
    },
    {
     "name": "stderr",
     "output_type": "stream",
     "text": [
      "Special tokens have been added in the vocabulary, make sure the associated word embeddings are fine-tuned or trained.\n",
      "Using pad_token, but it is not set yet.\n"
     ]
    },
    {
     "data": {
      "application/vnd.jupyter.widget-view+json": {
       "model_id": "38b21f4498a54fab884535bafd926a41",
       "version_major": 2,
       "version_minor": 0
      },
      "text/plain": [
       "  0%|          | 0/1 [00:00<?, ?it/s]"
      ]
     },
     "metadata": {},
     "output_type": "display_data"
    },
    {
     "name": "stderr",
     "output_type": "stream",
     "text": [
      "Special tokens have been added in the vocabulary, make sure the associated word embeddings are fine-tuned or trained.\n",
      "Using pad_token, but it is not set yet.\n"
     ]
    },
    {
     "data": {
      "application/vnd.jupyter.widget-view+json": {
       "model_id": "497f6bb8c563414c985bdf0eaa4e05b1",
       "version_major": 2,
       "version_minor": 0
      },
      "text/plain": [
       "  0%|          | 0/1 [00:00<?, ?it/s]"
      ]
     },
     "metadata": {},
     "output_type": "display_data"
    },
    {
     "name": "stderr",
     "output_type": "stream",
     "text": [
      "Special tokens have been added in the vocabulary, make sure the associated word embeddings are fine-tuned or trained.\n",
      "Using pad_token, but it is not set yet.\n"
     ]
    },
    {
     "data": {
      "application/vnd.jupyter.widget-view+json": {
       "model_id": "238eedcf20a547daa94fccb87161a2b5",
       "version_major": 2,
       "version_minor": 0
      },
      "text/plain": [
       "  0%|          | 0/1 [00:00<?, ?it/s]"
      ]
     },
     "metadata": {},
     "output_type": "display_data"
    },
    {
     "name": "stderr",
     "output_type": "stream",
     "text": [
      "Special tokens have been added in the vocabulary, make sure the associated word embeddings are fine-tuned or trained.\n",
      "Using pad_token, but it is not set yet.\n"
     ]
    },
    {
     "data": {
      "application/vnd.jupyter.widget-view+json": {
       "model_id": "bbeee360adf24a92a8c3b195ddfd48ac",
       "version_major": 2,
       "version_minor": 0
      },
      "text/plain": [
       "  0%|          | 0/1 [00:00<?, ?it/s]"
      ]
     },
     "metadata": {},
     "output_type": "display_data"
    },
    {
     "name": "stderr",
     "output_type": "stream",
     "text": [
      "Special tokens have been added in the vocabulary, make sure the associated word embeddings are fine-tuned or trained.\n",
      "Using pad_token, but it is not set yet.\n"
     ]
    },
    {
     "data": {
      "application/vnd.jupyter.widget-view+json": {
       "model_id": "53e55c9b0a514f8b834155b841ba502f",
       "version_major": 2,
       "version_minor": 0
      },
      "text/plain": [
       "  0%|          | 0/1 [00:00<?, ?it/s]"
      ]
     },
     "metadata": {},
     "output_type": "display_data"
    },
    {
     "name": "stderr",
     "output_type": "stream",
     "text": [
      "Special tokens have been added in the vocabulary, make sure the associated word embeddings are fine-tuned or trained.\n",
      "Using pad_token, but it is not set yet.\n"
     ]
    },
    {
     "data": {
      "application/vnd.jupyter.widget-view+json": {
       "model_id": "f9901c21d9ba4f71acc3ae85c4931e21",
       "version_major": 2,
       "version_minor": 0
      },
      "text/plain": [
       "  0%|          | 0/1 [00:00<?, ?it/s]"
      ]
     },
     "metadata": {},
     "output_type": "display_data"
    },
    {
     "name": "stderr",
     "output_type": "stream",
     "text": [
      "Special tokens have been added in the vocabulary, make sure the associated word embeddings are fine-tuned or trained.\n",
      "Using pad_token, but it is not set yet.\n"
     ]
    },
    {
     "data": {
      "application/vnd.jupyter.widget-view+json": {
       "model_id": "f0aa562494894ee7ba0c4d8023e77b57",
       "version_major": 2,
       "version_minor": 0
      },
      "text/plain": [
       "  0%|          | 0/1 [00:00<?, ?it/s]"
      ]
     },
     "metadata": {},
     "output_type": "display_data"
    },
    {
     "name": "stderr",
     "output_type": "stream",
     "text": [
      "Special tokens have been added in the vocabulary, make sure the associated word embeddings are fine-tuned or trained.\n",
      "Using pad_token, but it is not set yet.\n"
     ]
    },
    {
     "data": {
      "application/vnd.jupyter.widget-view+json": {
       "model_id": "2fefa74985d44e35a90637fa08ddaa80",
       "version_major": 2,
       "version_minor": 0
      },
      "text/plain": [
       "  0%|          | 0/1 [00:00<?, ?it/s]"
      ]
     },
     "metadata": {},
     "output_type": "display_data"
    },
    {
     "name": "stderr",
     "output_type": "stream",
     "text": [
      "Special tokens have been added in the vocabulary, make sure the associated word embeddings are fine-tuned or trained.\n",
      "Using pad_token, but it is not set yet.\n"
     ]
    },
    {
     "data": {
      "application/vnd.jupyter.widget-view+json": {
       "model_id": "b28e4201014d490186bb80342fc0c04a",
       "version_major": 2,
       "version_minor": 0
      },
      "text/plain": [
       "  0%|          | 0/1 [00:00<?, ?it/s]"
      ]
     },
     "metadata": {},
     "output_type": "display_data"
    },
    {
     "name": "stderr",
     "output_type": "stream",
     "text": [
      "Special tokens have been added in the vocabulary, make sure the associated word embeddings are fine-tuned or trained.\n",
      "Using pad_token, but it is not set yet.\n"
     ]
    },
    {
     "data": {
      "application/vnd.jupyter.widget-view+json": {
       "model_id": "054cbf1274bd4204b15fc002e86fc74c",
       "version_major": 2,
       "version_minor": 0
      },
      "text/plain": [
       "  0%|          | 0/1 [00:00<?, ?it/s]"
      ]
     },
     "metadata": {},
     "output_type": "display_data"
    },
    {
     "name": "stderr",
     "output_type": "stream",
     "text": [
      "Special tokens have been added in the vocabulary, make sure the associated word embeddings are fine-tuned or trained.\n",
      "Using pad_token, but it is not set yet.\n"
     ]
    },
    {
     "data": {
      "application/vnd.jupyter.widget-view+json": {
       "model_id": "f76dfbe3d02642bca817e9fdcff81687",
       "version_major": 2,
       "version_minor": 0
      },
      "text/plain": [
       "  0%|          | 0/1 [00:00<?, ?it/s]"
      ]
     },
     "metadata": {},
     "output_type": "display_data"
    },
    {
     "name": "stderr",
     "output_type": "stream",
     "text": [
      "Special tokens have been added in the vocabulary, make sure the associated word embeddings are fine-tuned or trained.\n",
      "Using pad_token, but it is not set yet.\n"
     ]
    },
    {
     "data": {
      "application/vnd.jupyter.widget-view+json": {
       "model_id": "5130c5cb59cf4bb79475c860664a2570",
       "version_major": 2,
       "version_minor": 0
      },
      "text/plain": [
       "  0%|          | 0/1 [00:00<?, ?it/s]"
      ]
     },
     "metadata": {},
     "output_type": "display_data"
    },
    {
     "name": "stderr",
     "output_type": "stream",
     "text": [
      "Special tokens have been added in the vocabulary, make sure the associated word embeddings are fine-tuned or trained.\n",
      "Using pad_token, but it is not set yet.\n"
     ]
    },
    {
     "data": {
      "application/vnd.jupyter.widget-view+json": {
       "model_id": "95ec62b48aa94f43b78ec4804732e13e",
       "version_major": 2,
       "version_minor": 0
      },
      "text/plain": [
       "  0%|          | 0/1 [00:00<?, ?it/s]"
      ]
     },
     "metadata": {},
     "output_type": "display_data"
    },
    {
     "name": "stderr",
     "output_type": "stream",
     "text": [
      "Special tokens have been added in the vocabulary, make sure the associated word embeddings are fine-tuned or trained.\n",
      "Using pad_token, but it is not set yet.\n"
     ]
    },
    {
     "data": {
      "application/vnd.jupyter.widget-view+json": {
       "model_id": "066ea48d1ce14597be45f14816d916a6",
       "version_major": 2,
       "version_minor": 0
      },
      "text/plain": [
       "  0%|          | 0/1 [00:00<?, ?it/s]"
      ]
     },
     "metadata": {},
     "output_type": "display_data"
    },
    {
     "name": "stderr",
     "output_type": "stream",
     "text": [
      "Special tokens have been added in the vocabulary, make sure the associated word embeddings are fine-tuned or trained.\n",
      "Using pad_token, but it is not set yet.\n"
     ]
    },
    {
     "data": {
      "application/vnd.jupyter.widget-view+json": {
       "model_id": "fbb3e584edec4cd7a5aa0e6729bbfd32",
       "version_major": 2,
       "version_minor": 0
      },
      "text/plain": [
       "  0%|          | 0/1 [00:00<?, ?it/s]"
      ]
     },
     "metadata": {},
     "output_type": "display_data"
    },
    {
     "name": "stderr",
     "output_type": "stream",
     "text": [
      "Special tokens have been added in the vocabulary, make sure the associated word embeddings are fine-tuned or trained.\n",
      "Using pad_token, but it is not set yet.\n"
     ]
    },
    {
     "data": {
      "application/vnd.jupyter.widget-view+json": {
       "model_id": "e8eae92eeea648be941862f80e3bc246",
       "version_major": 2,
       "version_minor": 0
      },
      "text/plain": [
       "  0%|          | 0/1 [00:00<?, ?it/s]"
      ]
     },
     "metadata": {},
     "output_type": "display_data"
    },
    {
     "name": "stderr",
     "output_type": "stream",
     "text": [
      "Special tokens have been added in the vocabulary, make sure the associated word embeddings are fine-tuned or trained.\n",
      "Using pad_token, but it is not set yet.\n"
     ]
    },
    {
     "data": {
      "application/vnd.jupyter.widget-view+json": {
       "model_id": "d26728e1d38b45debe20e8f4b8d29832",
       "version_major": 2,
       "version_minor": 0
      },
      "text/plain": [
       "  0%|          | 0/1 [00:00<?, ?it/s]"
      ]
     },
     "metadata": {},
     "output_type": "display_data"
    },
    {
     "name": "stderr",
     "output_type": "stream",
     "text": [
      "Special tokens have been added in the vocabulary, make sure the associated word embeddings are fine-tuned or trained.\n",
      "Using pad_token, but it is not set yet.\n"
     ]
    },
    {
     "data": {
      "application/vnd.jupyter.widget-view+json": {
       "model_id": "66d3d042bdb04e82adc4e235a52e83c1",
       "version_major": 2,
       "version_minor": 0
      },
      "text/plain": [
       "  0%|          | 0/1 [00:00<?, ?it/s]"
      ]
     },
     "metadata": {},
     "output_type": "display_data"
    },
    {
     "name": "stderr",
     "output_type": "stream",
     "text": [
      "Special tokens have been added in the vocabulary, make sure the associated word embeddings are fine-tuned or trained.\n",
      "Using pad_token, but it is not set yet.\n"
     ]
    },
    {
     "data": {
      "application/vnd.jupyter.widget-view+json": {
       "model_id": "477c53488777419094c3ad18b7fa22b1",
       "version_major": 2,
       "version_minor": 0
      },
      "text/plain": [
       "  0%|          | 0/1 [00:00<?, ?it/s]"
      ]
     },
     "metadata": {},
     "output_type": "display_data"
    },
    {
     "name": "stderr",
     "output_type": "stream",
     "text": [
      "Special tokens have been added in the vocabulary, make sure the associated word embeddings are fine-tuned or trained.\n",
      "Using pad_token, but it is not set yet.\n"
     ]
    },
    {
     "data": {
      "application/vnd.jupyter.widget-view+json": {
       "model_id": "469f50528ae4490d87e907b3719cf2c8",
       "version_major": 2,
       "version_minor": 0
      },
      "text/plain": [
       "  0%|          | 0/1 [00:00<?, ?it/s]"
      ]
     },
     "metadata": {},
     "output_type": "display_data"
    },
    {
     "name": "stderr",
     "output_type": "stream",
     "text": [
      "Special tokens have been added in the vocabulary, make sure the associated word embeddings are fine-tuned or trained.\n",
      "Using pad_token, but it is not set yet.\n"
     ]
    },
    {
     "data": {
      "application/vnd.jupyter.widget-view+json": {
       "model_id": "22ff7b6bfa5e471d960e5a9c6c3c76f2",
       "version_major": 2,
       "version_minor": 0
      },
      "text/plain": [
       "  0%|          | 0/1 [00:00<?, ?it/s]"
      ]
     },
     "metadata": {},
     "output_type": "display_data"
    },
    {
     "name": "stderr",
     "output_type": "stream",
     "text": [
      "Special tokens have been added in the vocabulary, make sure the associated word embeddings are fine-tuned or trained.\n",
      "Using pad_token, but it is not set yet.\n"
     ]
    },
    {
     "data": {
      "application/vnd.jupyter.widget-view+json": {
       "model_id": "a2763f3d503c4f2d90347ae4158d1051",
       "version_major": 2,
       "version_minor": 0
      },
      "text/plain": [
       "  0%|          | 0/1 [00:00<?, ?it/s]"
      ]
     },
     "metadata": {},
     "output_type": "display_data"
    },
    {
     "name": "stderr",
     "output_type": "stream",
     "text": [
      "Special tokens have been added in the vocabulary, make sure the associated word embeddings are fine-tuned or trained.\n",
      "Using pad_token, but it is not set yet.\n"
     ]
    },
    {
     "data": {
      "application/vnd.jupyter.widget-view+json": {
       "model_id": "14c2ae8c39304b8f95e06cc813327e26",
       "version_major": 2,
       "version_minor": 0
      },
      "text/plain": [
       "  0%|          | 0/1 [00:00<?, ?it/s]"
      ]
     },
     "metadata": {},
     "output_type": "display_data"
    },
    {
     "name": "stderr",
     "output_type": "stream",
     "text": [
      "Special tokens have been added in the vocabulary, make sure the associated word embeddings are fine-tuned or trained.\n",
      "Using pad_token, but it is not set yet.\n"
     ]
    },
    {
     "data": {
      "application/vnd.jupyter.widget-view+json": {
       "model_id": "bff63e00c6be4291b63db10ef350ac5d",
       "version_major": 2,
       "version_minor": 0
      },
      "text/plain": [
       "  0%|          | 0/1 [00:00<?, ?it/s]"
      ]
     },
     "metadata": {},
     "output_type": "display_data"
    },
    {
     "name": "stderr",
     "output_type": "stream",
     "text": [
      "Special tokens have been added in the vocabulary, make sure the associated word embeddings are fine-tuned or trained.\n",
      "Using pad_token, but it is not set yet.\n"
     ]
    },
    {
     "data": {
      "application/vnd.jupyter.widget-view+json": {
       "model_id": "bcba51f136f54a3580c4d8d5b5655553",
       "version_major": 2,
       "version_minor": 0
      },
      "text/plain": [
       "  0%|          | 0/1 [00:00<?, ?it/s]"
      ]
     },
     "metadata": {},
     "output_type": "display_data"
    },
    {
     "name": "stderr",
     "output_type": "stream",
     "text": [
      "Special tokens have been added in the vocabulary, make sure the associated word embeddings are fine-tuned or trained.\n",
      "Using pad_token, but it is not set yet.\n"
     ]
    },
    {
     "data": {
      "application/vnd.jupyter.widget-view+json": {
       "model_id": "37163f655d8f4ec5ace67aa7f5fb78d9",
       "version_major": 2,
       "version_minor": 0
      },
      "text/plain": [
       "  0%|          | 0/1 [00:00<?, ?it/s]"
      ]
     },
     "metadata": {},
     "output_type": "display_data"
    },
    {
     "name": "stderr",
     "output_type": "stream",
     "text": [
      "Special tokens have been added in the vocabulary, make sure the associated word embeddings are fine-tuned or trained.\n",
      "Using pad_token, but it is not set yet.\n"
     ]
    },
    {
     "data": {
      "application/vnd.jupyter.widget-view+json": {
       "model_id": "9e98aa20d5ea4118a0638762b42777b8",
       "version_major": 2,
       "version_minor": 0
      },
      "text/plain": [
       "  0%|          | 0/1 [00:00<?, ?it/s]"
      ]
     },
     "metadata": {},
     "output_type": "display_data"
    },
    {
     "name": "stderr",
     "output_type": "stream",
     "text": [
      "Special tokens have been added in the vocabulary, make sure the associated word embeddings are fine-tuned or trained.\n",
      "Using pad_token, but it is not set yet.\n"
     ]
    },
    {
     "data": {
      "application/vnd.jupyter.widget-view+json": {
       "model_id": "acdf7e4ee0f74f5598f63bd55c87781f",
       "version_major": 2,
       "version_minor": 0
      },
      "text/plain": [
       "  0%|          | 0/1 [00:00<?, ?it/s]"
      ]
     },
     "metadata": {},
     "output_type": "display_data"
    },
    {
     "name": "stderr",
     "output_type": "stream",
     "text": [
      "Special tokens have been added in the vocabulary, make sure the associated word embeddings are fine-tuned or trained.\n",
      "Using pad_token, but it is not set yet.\n"
     ]
    },
    {
     "data": {
      "application/vnd.jupyter.widget-view+json": {
       "model_id": "2371f23584c34258b1125291c1b2ac52",
       "version_major": 2,
       "version_minor": 0
      },
      "text/plain": [
       "  0%|          | 0/1 [00:00<?, ?it/s]"
      ]
     },
     "metadata": {},
     "output_type": "display_data"
    },
    {
     "name": "stderr",
     "output_type": "stream",
     "text": [
      "Special tokens have been added in the vocabulary, make sure the associated word embeddings are fine-tuned or trained.\n",
      "Using pad_token, but it is not set yet.\n"
     ]
    },
    {
     "data": {
      "application/vnd.jupyter.widget-view+json": {
       "model_id": "13c444de8594482695e4cb2b50fff8f9",
       "version_major": 2,
       "version_minor": 0
      },
      "text/plain": [
       "  0%|          | 0/1 [00:00<?, ?it/s]"
      ]
     },
     "metadata": {},
     "output_type": "display_data"
    },
    {
     "name": "stderr",
     "output_type": "stream",
     "text": [
      "Special tokens have been added in the vocabulary, make sure the associated word embeddings are fine-tuned or trained.\n",
      "Using pad_token, but it is not set yet.\n"
     ]
    },
    {
     "data": {
      "application/vnd.jupyter.widget-view+json": {
       "model_id": "db246ec2ac074825946579d073335cf5",
       "version_major": 2,
       "version_minor": 0
      },
      "text/plain": [
       "  0%|          | 0/1 [00:00<?, ?it/s]"
      ]
     },
     "metadata": {},
     "output_type": "display_data"
    },
    {
     "name": "stderr",
     "output_type": "stream",
     "text": [
      "Special tokens have been added in the vocabulary, make sure the associated word embeddings are fine-tuned or trained.\n",
      "Using pad_token, but it is not set yet.\n"
     ]
    },
    {
     "data": {
      "application/vnd.jupyter.widget-view+json": {
       "model_id": "872e60d14c0b43249bfba3ed0c0f8d0b",
       "version_major": 2,
       "version_minor": 0
      },
      "text/plain": [
       "  0%|          | 0/1 [00:00<?, ?it/s]"
      ]
     },
     "metadata": {},
     "output_type": "display_data"
    },
    {
     "name": "stderr",
     "output_type": "stream",
     "text": [
      "Special tokens have been added in the vocabulary, make sure the associated word embeddings are fine-tuned or trained.\n",
      "Using pad_token, but it is not set yet.\n"
     ]
    },
    {
     "data": {
      "application/vnd.jupyter.widget-view+json": {
       "model_id": "476a96a9ca6d4411934755186dceb103",
       "version_major": 2,
       "version_minor": 0
      },
      "text/plain": [
       "  0%|          | 0/1 [00:00<?, ?it/s]"
      ]
     },
     "metadata": {},
     "output_type": "display_data"
    },
    {
     "name": "stderr",
     "output_type": "stream",
     "text": [
      "Special tokens have been added in the vocabulary, make sure the associated word embeddings are fine-tuned or trained.\n",
      "Using pad_token, but it is not set yet.\n"
     ]
    },
    {
     "data": {
      "application/vnd.jupyter.widget-view+json": {
       "model_id": "2c1583b6a3a74675a948044e47a27243",
       "version_major": 2,
       "version_minor": 0
      },
      "text/plain": [
       "  0%|          | 0/1 [00:00<?, ?it/s]"
      ]
     },
     "metadata": {},
     "output_type": "display_data"
    },
    {
     "name": "stderr",
     "output_type": "stream",
     "text": [
      "Special tokens have been added in the vocabulary, make sure the associated word embeddings are fine-tuned or trained.\n",
      "Using pad_token, but it is not set yet.\n"
     ]
    },
    {
     "data": {
      "application/vnd.jupyter.widget-view+json": {
       "model_id": "63ce6610b379426998ec690108f967cb",
       "version_major": 2,
       "version_minor": 0
      },
      "text/plain": [
       "  0%|          | 0/1 [00:00<?, ?it/s]"
      ]
     },
     "metadata": {},
     "output_type": "display_data"
    },
    {
     "name": "stderr",
     "output_type": "stream",
     "text": [
      "Special tokens have been added in the vocabulary, make sure the associated word embeddings are fine-tuned or trained.\n",
      "Using pad_token, but it is not set yet.\n"
     ]
    },
    {
     "data": {
      "application/vnd.jupyter.widget-view+json": {
       "model_id": "06397fc74e7f439992eea42afa93f1c7",
       "version_major": 2,
       "version_minor": 0
      },
      "text/plain": [
       "  0%|          | 0/1 [00:00<?, ?it/s]"
      ]
     },
     "metadata": {},
     "output_type": "display_data"
    },
    {
     "name": "stderr",
     "output_type": "stream",
     "text": [
      "Special tokens have been added in the vocabulary, make sure the associated word embeddings are fine-tuned or trained.\n",
      "Using pad_token, but it is not set yet.\n"
     ]
    },
    {
     "data": {
      "application/vnd.jupyter.widget-view+json": {
       "model_id": "90eda45d16094f03a413469da413e5f8",
       "version_major": 2,
       "version_minor": 0
      },
      "text/plain": [
       "  0%|          | 0/1 [00:00<?, ?it/s]"
      ]
     },
     "metadata": {},
     "output_type": "display_data"
    },
    {
     "name": "stderr",
     "output_type": "stream",
     "text": [
      "Special tokens have been added in the vocabulary, make sure the associated word embeddings are fine-tuned or trained.\n",
      "Using pad_token, but it is not set yet.\n"
     ]
    },
    {
     "data": {
      "application/vnd.jupyter.widget-view+json": {
       "model_id": "4b6a35bcb4944f0385a8e2090bab8927",
       "version_major": 2,
       "version_minor": 0
      },
      "text/plain": [
       "  0%|          | 0/1 [00:00<?, ?it/s]"
      ]
     },
     "metadata": {},
     "output_type": "display_data"
    },
    {
     "name": "stderr",
     "output_type": "stream",
     "text": [
      "Special tokens have been added in the vocabulary, make sure the associated word embeddings are fine-tuned or trained.\n",
      "Using pad_token, but it is not set yet.\n"
     ]
    },
    {
     "data": {
      "application/vnd.jupyter.widget-view+json": {
       "model_id": "660ec867df304fee8e4b985563d5b82e",
       "version_major": 2,
       "version_minor": 0
      },
      "text/plain": [
       "  0%|          | 0/1 [00:00<?, ?it/s]"
      ]
     },
     "metadata": {},
     "output_type": "display_data"
    },
    {
     "name": "stderr",
     "output_type": "stream",
     "text": [
      "Special tokens have been added in the vocabulary, make sure the associated word embeddings are fine-tuned or trained.\n",
      "Using pad_token, but it is not set yet.\n"
     ]
    },
    {
     "data": {
      "application/vnd.jupyter.widget-view+json": {
       "model_id": "775ed46e0c4a40a186075ade98b3c897",
       "version_major": 2,
       "version_minor": 0
      },
      "text/plain": [
       "  0%|          | 0/1 [00:00<?, ?it/s]"
      ]
     },
     "metadata": {},
     "output_type": "display_data"
    },
    {
     "name": "stderr",
     "output_type": "stream",
     "text": [
      "Special tokens have been added in the vocabulary, make sure the associated word embeddings are fine-tuned or trained.\n",
      "Using pad_token, but it is not set yet.\n"
     ]
    },
    {
     "data": {
      "application/vnd.jupyter.widget-view+json": {
       "model_id": "007cce466d1d4e978066a9ca45d135b2",
       "version_major": 2,
       "version_minor": 0
      },
      "text/plain": [
       "  0%|          | 0/1 [00:00<?, ?it/s]"
      ]
     },
     "metadata": {},
     "output_type": "display_data"
    },
    {
     "name": "stderr",
     "output_type": "stream",
     "text": [
      "Special tokens have been added in the vocabulary, make sure the associated word embeddings are fine-tuned or trained.\n",
      "Using pad_token, but it is not set yet.\n"
     ]
    },
    {
     "data": {
      "application/vnd.jupyter.widget-view+json": {
       "model_id": "8aef561adf7f42ca953d29e08f06d9a1",
       "version_major": 2,
       "version_minor": 0
      },
      "text/plain": [
       "  0%|          | 0/1 [00:00<?, ?it/s]"
      ]
     },
     "metadata": {},
     "output_type": "display_data"
    },
    {
     "name": "stderr",
     "output_type": "stream",
     "text": [
      "Special tokens have been added in the vocabulary, make sure the associated word embeddings are fine-tuned or trained.\n",
      "Using pad_token, but it is not set yet.\n"
     ]
    },
    {
     "data": {
      "application/vnd.jupyter.widget-view+json": {
       "model_id": "77689838ec914316bdf8dd217cacf909",
       "version_major": 2,
       "version_minor": 0
      },
      "text/plain": [
       "  0%|          | 0/1 [00:00<?, ?it/s]"
      ]
     },
     "metadata": {},
     "output_type": "display_data"
    },
    {
     "name": "stderr",
     "output_type": "stream",
     "text": [
      "Special tokens have been added in the vocabulary, make sure the associated word embeddings are fine-tuned or trained.\n",
      "Using pad_token, but it is not set yet.\n"
     ]
    },
    {
     "data": {
      "application/vnd.jupyter.widget-view+json": {
       "model_id": "6d7756595c1943ce9b42c42fadbdf2b0",
       "version_major": 2,
       "version_minor": 0
      },
      "text/plain": [
       "  0%|          | 0/1 [00:00<?, ?it/s]"
      ]
     },
     "metadata": {},
     "output_type": "display_data"
    },
    {
     "name": "stderr",
     "output_type": "stream",
     "text": [
      "Special tokens have been added in the vocabulary, make sure the associated word embeddings are fine-tuned or trained.\n",
      "Using pad_token, but it is not set yet.\n"
     ]
    },
    {
     "data": {
      "application/vnd.jupyter.widget-view+json": {
       "model_id": "07d99a1df9994e729fea30a276bd79a8",
       "version_major": 2,
       "version_minor": 0
      },
      "text/plain": [
       "  0%|          | 0/1 [00:00<?, ?it/s]"
      ]
     },
     "metadata": {},
     "output_type": "display_data"
    },
    {
     "name": "stderr",
     "output_type": "stream",
     "text": [
      "Special tokens have been added in the vocabulary, make sure the associated word embeddings are fine-tuned or trained.\n",
      "Using pad_token, but it is not set yet.\n"
     ]
    },
    {
     "data": {
      "application/vnd.jupyter.widget-view+json": {
       "model_id": "2b365c97748c4cafa0c3245333f627b4",
       "version_major": 2,
       "version_minor": 0
      },
      "text/plain": [
       "  0%|          | 0/1 [00:00<?, ?it/s]"
      ]
     },
     "metadata": {},
     "output_type": "display_data"
    },
    {
     "name": "stderr",
     "output_type": "stream",
     "text": [
      "Special tokens have been added in the vocabulary, make sure the associated word embeddings are fine-tuned or trained.\n",
      "Using pad_token, but it is not set yet.\n"
     ]
    },
    {
     "data": {
      "application/vnd.jupyter.widget-view+json": {
       "model_id": "aa520daf88cd4ac2b83fda70c6746c07",
       "version_major": 2,
       "version_minor": 0
      },
      "text/plain": [
       "  0%|          | 0/1 [00:00<?, ?it/s]"
      ]
     },
     "metadata": {},
     "output_type": "display_data"
    },
    {
     "name": "stderr",
     "output_type": "stream",
     "text": [
      "Special tokens have been added in the vocabulary, make sure the associated word embeddings are fine-tuned or trained.\n",
      "Using pad_token, but it is not set yet.\n"
     ]
    },
    {
     "data": {
      "application/vnd.jupyter.widget-view+json": {
       "model_id": "afa1a692eaa94559981a62ffb9320869",
       "version_major": 2,
       "version_minor": 0
      },
      "text/plain": [
       "  0%|          | 0/1 [00:00<?, ?it/s]"
      ]
     },
     "metadata": {},
     "output_type": "display_data"
    },
    {
     "name": "stderr",
     "output_type": "stream",
     "text": [
      "Special tokens have been added in the vocabulary, make sure the associated word embeddings are fine-tuned or trained.\n",
      "Using pad_token, but it is not set yet.\n"
     ]
    },
    {
     "data": {
      "application/vnd.jupyter.widget-view+json": {
       "model_id": "6fe327626bc4473abf0290b0087893ad",
       "version_major": 2,
       "version_minor": 0
      },
      "text/plain": [
       "  0%|          | 0/1 [00:00<?, ?it/s]"
      ]
     },
     "metadata": {},
     "output_type": "display_data"
    },
    {
     "name": "stderr",
     "output_type": "stream",
     "text": [
      "Special tokens have been added in the vocabulary, make sure the associated word embeddings are fine-tuned or trained.\n",
      "Using pad_token, but it is not set yet.\n"
     ]
    },
    {
     "data": {
      "application/vnd.jupyter.widget-view+json": {
       "model_id": "20e683ad257e4dfe8b08feeaf3fb0c51",
       "version_major": 2,
       "version_minor": 0
      },
      "text/plain": [
       "  0%|          | 0/1 [00:00<?, ?it/s]"
      ]
     },
     "metadata": {},
     "output_type": "display_data"
    },
    {
     "name": "stderr",
     "output_type": "stream",
     "text": [
      "Special tokens have been added in the vocabulary, make sure the associated word embeddings are fine-tuned or trained.\n",
      "Using pad_token, but it is not set yet.\n"
     ]
    },
    {
     "data": {
      "application/vnd.jupyter.widget-view+json": {
       "model_id": "088d510b905e4699bb90d32b77740c67",
       "version_major": 2,
       "version_minor": 0
      },
      "text/plain": [
       "  0%|          | 0/1 [00:00<?, ?it/s]"
      ]
     },
     "metadata": {},
     "output_type": "display_data"
    },
    {
     "name": "stderr",
     "output_type": "stream",
     "text": [
      "Special tokens have been added in the vocabulary, make sure the associated word embeddings are fine-tuned or trained.\n",
      "Using pad_token, but it is not set yet.\n"
     ]
    },
    {
     "data": {
      "application/vnd.jupyter.widget-view+json": {
       "model_id": "c38c8d9311e9470fbe70fdb563007c90",
       "version_major": 2,
       "version_minor": 0
      },
      "text/plain": [
       "  0%|          | 0/1 [00:00<?, ?it/s]"
      ]
     },
     "metadata": {},
     "output_type": "display_data"
    },
    {
     "name": "stderr",
     "output_type": "stream",
     "text": [
      "Special tokens have been added in the vocabulary, make sure the associated word embeddings are fine-tuned or trained.\n",
      "Using pad_token, but it is not set yet.\n"
     ]
    },
    {
     "data": {
      "application/vnd.jupyter.widget-view+json": {
       "model_id": "8d7f1ee944c2466dada761230ee4bc7a",
       "version_major": 2,
       "version_minor": 0
      },
      "text/plain": [
       "  0%|          | 0/1 [00:00<?, ?it/s]"
      ]
     },
     "metadata": {},
     "output_type": "display_data"
    },
    {
     "name": "stderr",
     "output_type": "stream",
     "text": [
      "Special tokens have been added in the vocabulary, make sure the associated word embeddings are fine-tuned or trained.\n",
      "Using pad_token, but it is not set yet.\n"
     ]
    },
    {
     "data": {
      "application/vnd.jupyter.widget-view+json": {
       "model_id": "3403b27b6b6b470a953003844ecdef8d",
       "version_major": 2,
       "version_minor": 0
      },
      "text/plain": [
       "  0%|          | 0/1 [00:00<?, ?it/s]"
      ]
     },
     "metadata": {},
     "output_type": "display_data"
    },
    {
     "name": "stderr",
     "output_type": "stream",
     "text": [
      "Special tokens have been added in the vocabulary, make sure the associated word embeddings are fine-tuned or trained.\n",
      "Using pad_token, but it is not set yet.\n"
     ]
    },
    {
     "data": {
      "application/vnd.jupyter.widget-view+json": {
       "model_id": "4d6015b1dec448d69dcd17c273c9f7bc",
       "version_major": 2,
       "version_minor": 0
      },
      "text/plain": [
       "  0%|          | 0/1 [00:00<?, ?it/s]"
      ]
     },
     "metadata": {},
     "output_type": "display_data"
    },
    {
     "name": "stderr",
     "output_type": "stream",
     "text": [
      "Special tokens have been added in the vocabulary, make sure the associated word embeddings are fine-tuned or trained.\n",
      "Using pad_token, but it is not set yet.\n"
     ]
    },
    {
     "data": {
      "application/vnd.jupyter.widget-view+json": {
       "model_id": "fe9c919870d14648a990eca2b56489c4",
       "version_major": 2,
       "version_minor": 0
      },
      "text/plain": [
       "  0%|          | 0/1 [00:00<?, ?it/s]"
      ]
     },
     "metadata": {},
     "output_type": "display_data"
    },
    {
     "name": "stderr",
     "output_type": "stream",
     "text": [
      "Special tokens have been added in the vocabulary, make sure the associated word embeddings are fine-tuned or trained.\n",
      "Using pad_token, but it is not set yet.\n"
     ]
    },
    {
     "data": {
      "application/vnd.jupyter.widget-view+json": {
       "model_id": "7dfbba05d7ec407ea4ff8c0a3da77404",
       "version_major": 2,
       "version_minor": 0
      },
      "text/plain": [
       "  0%|          | 0/1 [00:00<?, ?it/s]"
      ]
     },
     "metadata": {},
     "output_type": "display_data"
    },
    {
     "name": "stderr",
     "output_type": "stream",
     "text": [
      "Special tokens have been added in the vocabulary, make sure the associated word embeddings are fine-tuned or trained.\n",
      "Using pad_token, but it is not set yet.\n"
     ]
    },
    {
     "data": {
      "application/vnd.jupyter.widget-view+json": {
       "model_id": "704fb14360e84f1483db6da05082887e",
       "version_major": 2,
       "version_minor": 0
      },
      "text/plain": [
       "  0%|          | 0/1 [00:00<?, ?it/s]"
      ]
     },
     "metadata": {},
     "output_type": "display_data"
    },
    {
     "name": "stderr",
     "output_type": "stream",
     "text": [
      "Special tokens have been added in the vocabulary, make sure the associated word embeddings are fine-tuned or trained.\n",
      "Using pad_token, but it is not set yet.\n"
     ]
    },
    {
     "data": {
      "application/vnd.jupyter.widget-view+json": {
       "model_id": "d0be2c6df453418085e1c56cd19c73a2",
       "version_major": 2,
       "version_minor": 0
      },
      "text/plain": [
       "  0%|          | 0/1 [00:00<?, ?it/s]"
      ]
     },
     "metadata": {},
     "output_type": "display_data"
    },
    {
     "name": "stderr",
     "output_type": "stream",
     "text": [
      "Special tokens have been added in the vocabulary, make sure the associated word embeddings are fine-tuned or trained.\n",
      "Using pad_token, but it is not set yet.\n"
     ]
    },
    {
     "data": {
      "application/vnd.jupyter.widget-view+json": {
       "model_id": "8bfbdd3e8a784ea096a95a26fbc0a1af",
       "version_major": 2,
       "version_minor": 0
      },
      "text/plain": [
       "  0%|          | 0/1 [00:00<?, ?it/s]"
      ]
     },
     "metadata": {},
     "output_type": "display_data"
    },
    {
     "name": "stderr",
     "output_type": "stream",
     "text": [
      "Special tokens have been added in the vocabulary, make sure the associated word embeddings are fine-tuned or trained.\n",
      "Using pad_token, but it is not set yet.\n"
     ]
    },
    {
     "data": {
      "application/vnd.jupyter.widget-view+json": {
       "model_id": "8bc977d7c785450bbf25c66706aa01fa",
       "version_major": 2,
       "version_minor": 0
      },
      "text/plain": [
       "  0%|          | 0/1 [00:00<?, ?it/s]"
      ]
     },
     "metadata": {},
     "output_type": "display_data"
    },
    {
     "name": "stderr",
     "output_type": "stream",
     "text": [
      "Special tokens have been added in the vocabulary, make sure the associated word embeddings are fine-tuned or trained.\n",
      "Using pad_token, but it is not set yet.\n"
     ]
    },
    {
     "data": {
      "application/vnd.jupyter.widget-view+json": {
       "model_id": "ecb3619cf97d4186b27cf86d3f27a454",
       "version_major": 2,
       "version_minor": 0
      },
      "text/plain": [
       "  0%|          | 0/1 [00:00<?, ?it/s]"
      ]
     },
     "metadata": {},
     "output_type": "display_data"
    },
    {
     "name": "stderr",
     "output_type": "stream",
     "text": [
      "Special tokens have been added in the vocabulary, make sure the associated word embeddings are fine-tuned or trained.\n",
      "Using pad_token, but it is not set yet.\n"
     ]
    },
    {
     "data": {
      "application/vnd.jupyter.widget-view+json": {
       "model_id": "849b14f87bd842d19ef6f4a01f8b8780",
       "version_major": 2,
       "version_minor": 0
      },
      "text/plain": [
       "  0%|          | 0/1 [00:00<?, ?it/s]"
      ]
     },
     "metadata": {},
     "output_type": "display_data"
    },
    {
     "name": "stderr",
     "output_type": "stream",
     "text": [
      "Special tokens have been added in the vocabulary, make sure the associated word embeddings are fine-tuned or trained.\n",
      "Using pad_token, but it is not set yet.\n"
     ]
    },
    {
     "data": {
      "application/vnd.jupyter.widget-view+json": {
       "model_id": "ab95a986900b45a7bdb6143493f1b53e",
       "version_major": 2,
       "version_minor": 0
      },
      "text/plain": [
       "  0%|          | 0/1 [00:00<?, ?it/s]"
      ]
     },
     "metadata": {},
     "output_type": "display_data"
    },
    {
     "name": "stderr",
     "output_type": "stream",
     "text": [
      "Special tokens have been added in the vocabulary, make sure the associated word embeddings are fine-tuned or trained.\n",
      "Using pad_token, but it is not set yet.\n"
     ]
    },
    {
     "data": {
      "application/vnd.jupyter.widget-view+json": {
       "model_id": "7e91b1c29f1d4484adfc4a7b5d24dfd4",
       "version_major": 2,
       "version_minor": 0
      },
      "text/plain": [
       "  0%|          | 0/1 [00:00<?, ?it/s]"
      ]
     },
     "metadata": {},
     "output_type": "display_data"
    },
    {
     "name": "stderr",
     "output_type": "stream",
     "text": [
      "Special tokens have been added in the vocabulary, make sure the associated word embeddings are fine-tuned or trained.\n",
      "Using pad_token, but it is not set yet.\n"
     ]
    },
    {
     "data": {
      "application/vnd.jupyter.widget-view+json": {
       "model_id": "df8e12c07c5d4111881ce348d918c79f",
       "version_major": 2,
       "version_minor": 0
      },
      "text/plain": [
       "  0%|          | 0/1 [00:00<?, ?it/s]"
      ]
     },
     "metadata": {},
     "output_type": "display_data"
    },
    {
     "name": "stderr",
     "output_type": "stream",
     "text": [
      "Special tokens have been added in the vocabulary, make sure the associated word embeddings are fine-tuned or trained.\n",
      "Using pad_token, but it is not set yet.\n"
     ]
    },
    {
     "data": {
      "application/vnd.jupyter.widget-view+json": {
       "model_id": "da4fcc8a30b84d719fb437490c45e075",
       "version_major": 2,
       "version_minor": 0
      },
      "text/plain": [
       "  0%|          | 0/1 [00:00<?, ?it/s]"
      ]
     },
     "metadata": {},
     "output_type": "display_data"
    },
    {
     "name": "stderr",
     "output_type": "stream",
     "text": [
      "Special tokens have been added in the vocabulary, make sure the associated word embeddings are fine-tuned or trained.\n",
      "Using pad_token, but it is not set yet.\n"
     ]
    },
    {
     "data": {
      "application/vnd.jupyter.widget-view+json": {
       "model_id": "2575efa63c95473497bc447e8bc3f901",
       "version_major": 2,
       "version_minor": 0
      },
      "text/plain": [
       "  0%|          | 0/1 [00:00<?, ?it/s]"
      ]
     },
     "metadata": {},
     "output_type": "display_data"
    },
    {
     "name": "stderr",
     "output_type": "stream",
     "text": [
      "Special tokens have been added in the vocabulary, make sure the associated word embeddings are fine-tuned or trained.\n",
      "Using pad_token, but it is not set yet.\n"
     ]
    },
    {
     "data": {
      "application/vnd.jupyter.widget-view+json": {
       "model_id": "b58bf9a5ac1e4811b24a3f322f8a0829",
       "version_major": 2,
       "version_minor": 0
      },
      "text/plain": [
       "  0%|          | 0/1 [00:00<?, ?it/s]"
      ]
     },
     "metadata": {},
     "output_type": "display_data"
    },
    {
     "name": "stderr",
     "output_type": "stream",
     "text": [
      "Special tokens have been added in the vocabulary, make sure the associated word embeddings are fine-tuned or trained.\n",
      "Using pad_token, but it is not set yet.\n"
     ]
    },
    {
     "data": {
      "application/vnd.jupyter.widget-view+json": {
       "model_id": "127edac73dec4e639927c196673da086",
       "version_major": 2,
       "version_minor": 0
      },
      "text/plain": [
       "  0%|          | 0/1 [00:00<?, ?it/s]"
      ]
     },
     "metadata": {},
     "output_type": "display_data"
    },
    {
     "name": "stderr",
     "output_type": "stream",
     "text": [
      "Special tokens have been added in the vocabulary, make sure the associated word embeddings are fine-tuned or trained.\n",
      "Using pad_token, but it is not set yet.\n"
     ]
    },
    {
     "data": {
      "application/vnd.jupyter.widget-view+json": {
       "model_id": "486f1af279f8477bb9f8916e8fc421e8",
       "version_major": 2,
       "version_minor": 0
      },
      "text/plain": [
       "  0%|          | 0/1 [00:00<?, ?it/s]"
      ]
     },
     "metadata": {},
     "output_type": "display_data"
    },
    {
     "name": "stderr",
     "output_type": "stream",
     "text": [
      "Special tokens have been added in the vocabulary, make sure the associated word embeddings are fine-tuned or trained.\n",
      "Using pad_token, but it is not set yet.\n"
     ]
    },
    {
     "data": {
      "application/vnd.jupyter.widget-view+json": {
       "model_id": "1c54b66c4dad4a52980efc0ad9514a1c",
       "version_major": 2,
       "version_minor": 0
      },
      "text/plain": [
       "  0%|          | 0/1 [00:00<?, ?it/s]"
      ]
     },
     "metadata": {},
     "output_type": "display_data"
    },
    {
     "name": "stderr",
     "output_type": "stream",
     "text": [
      "Special tokens have been added in the vocabulary, make sure the associated word embeddings are fine-tuned or trained.\n",
      "Using pad_token, but it is not set yet.\n"
     ]
    },
    {
     "data": {
      "application/vnd.jupyter.widget-view+json": {
       "model_id": "cf7d8bd7331943e182c997a46d217c55",
       "version_major": 2,
       "version_minor": 0
      },
      "text/plain": [
       "  0%|          | 0/1 [00:00<?, ?it/s]"
      ]
     },
     "metadata": {},
     "output_type": "display_data"
    },
    {
     "name": "stderr",
     "output_type": "stream",
     "text": [
      "Special tokens have been added in the vocabulary, make sure the associated word embeddings are fine-tuned or trained.\n",
      "Using pad_token, but it is not set yet.\n"
     ]
    },
    {
     "data": {
      "application/vnd.jupyter.widget-view+json": {
       "model_id": "01e56a7277cc4c7eb6435720585a5388",
       "version_major": 2,
       "version_minor": 0
      },
      "text/plain": [
       "  0%|          | 0/1 [00:00<?, ?it/s]"
      ]
     },
     "metadata": {},
     "output_type": "display_data"
    },
    {
     "name": "stderr",
     "output_type": "stream",
     "text": [
      "Special tokens have been added in the vocabulary, make sure the associated word embeddings are fine-tuned or trained.\n",
      "Using pad_token, but it is not set yet.\n"
     ]
    },
    {
     "data": {
      "application/vnd.jupyter.widget-view+json": {
       "model_id": "d41100d9422648e6b8c39229d112ecf5",
       "version_major": 2,
       "version_minor": 0
      },
      "text/plain": [
       "  0%|          | 0/1 [00:00<?, ?it/s]"
      ]
     },
     "metadata": {},
     "output_type": "display_data"
    },
    {
     "name": "stderr",
     "output_type": "stream",
     "text": [
      "Special tokens have been added in the vocabulary, make sure the associated word embeddings are fine-tuned or trained.\n",
      "Using pad_token, but it is not set yet.\n"
     ]
    },
    {
     "data": {
      "application/vnd.jupyter.widget-view+json": {
       "model_id": "9c1165aedab84292a7add1a36fa9900a",
       "version_major": 2,
       "version_minor": 0
      },
      "text/plain": [
       "  0%|          | 0/1 [00:00<?, ?it/s]"
      ]
     },
     "metadata": {},
     "output_type": "display_data"
    },
    {
     "name": "stderr",
     "output_type": "stream",
     "text": [
      "Special tokens have been added in the vocabulary, make sure the associated word embeddings are fine-tuned or trained.\n",
      "Using pad_token, but it is not set yet.\n"
     ]
    },
    {
     "data": {
      "application/vnd.jupyter.widget-view+json": {
       "model_id": "5ef29165df9949d4ac26dffca893b40d",
       "version_major": 2,
       "version_minor": 0
      },
      "text/plain": [
       "  0%|          | 0/1 [00:00<?, ?it/s]"
      ]
     },
     "metadata": {},
     "output_type": "display_data"
    },
    {
     "name": "stderr",
     "output_type": "stream",
     "text": [
      "Special tokens have been added in the vocabulary, make sure the associated word embeddings are fine-tuned or trained.\n",
      "Using pad_token, but it is not set yet.\n"
     ]
    },
    {
     "data": {
      "application/vnd.jupyter.widget-view+json": {
       "model_id": "ec7080e1869345469c83519a91ee3832",
       "version_major": 2,
       "version_minor": 0
      },
      "text/plain": [
       "  0%|          | 0/1 [00:00<?, ?it/s]"
      ]
     },
     "metadata": {},
     "output_type": "display_data"
    }
   ],
   "source": [
    "import nltk\n",
    "# FEATURE ChatGPT ANSWER\n",
    "df = helper_functions.ordinal_gpt_feature(df)\n",
    "\n",
    "\n",
    "df['character_count'] = df.text.str.len()\n",
    "df['words_count'] = df.text.apply(lambda x: len(str(x).split(' ')))\n",
    "\n",
    "# FEATURE TITLE OCCURENCE\n",
    "df = helper_functions.title_occurence(df)\n",
    "\n",
    "# FEATURES FOR OCCURENCE OF WORDS\n",
    "#df = helper_functions.count_word_occurence(df, [\"the\", \"it\", \"is\", \"nevertheless\", \"although\", \"however\", \"therefore\"], add_blanks=True)\n",
    "\n",
    "# FEATURE FOR NUMBER OF SENTENCES\n",
    "df['sentence_count'] = helper_functions.count_sentences_raw_text(df, \"hybrid\")\n",
    "\n",
    "# FEATURE AVERAGE NUMBER OF WORDS PER SENTENCE\n",
    "#df[\"avg_words_per_sentence\"] = helper_functions.words_per_sentence(df)\n",
    "\n",
    "# FEATURE COUNT OF QUOTATION MARKS\n",
    "df['quotation_count'] = df['text'].str.count('\\\"')\n",
    "\n",
    "# FEATURE COUNT OF UNIQUE WORDS ABSOLUTE\n",
    "df[\"unique_words_count\"] = df.text.apply(lambda x: len(Counter(re.sub(r'[^A-Za-z \\n]', '', x).lower().split())))\n",
    "\n",
    "# FEATURE COUNT OF UNIQUE WORDS ABSOLUTE RELATIVE TO ALL WORDS IN TEXT\n",
    "df[\"unique_words_relative\"] = df[\"unique_words_count\"] / df[\"words_count\"]\n",
    "\n",
    "# FEATURE COUNT OF SPECIAL CHARACTERS\n",
    "pattern = r'[0-9a-z.?¿!¡,\\n çñáãâàîïíìóôòéèêúûùäöüß]'  # those are excluded from count -> removed from text\n",
    "df[\"special_char_count\"] = df.text.apply(lambda x: len(re.sub(pattern,'', x.lower())))\n",
    "\n",
    "df = helper_functions.add_flesch_scores(df)\n",
    "\n",
    "df[\"personal_pronoun_relative\"] = df.text.apply(lambda x: helper_functions.count_personal_pronouns(x, \"rel\", lang))\n",
    "df[\"personal_pronoun_count\"] = df.text.apply(lambda x: helper_functions.count_personal_pronouns(x, \"abs\", lang))\n",
    "\n",
    "df[\"stats\"] = df[\"text\"].apply(helper_functions.calculate_paragraph_stats)\n",
    "df[[\"words_per_paragraph_mean\", \"words_per_paragraph_stdev\", \"sentences_per_paragraph_mean\", \"sentences_per_paragraph_stdev\"]] = pd.DataFrame(df[\"stats\"].tolist(), index=df.index)\n",
    "# Drop the original 'stats' column\n",
    "df.drop(columns=[\"stats\"], inplace=True)\n",
    "df[\"punctuation_count\"] = df.text.apply(helper_functions.count_punctuation)\n",
    "\n",
    "df[\"paragraph_count\"] = df.text.apply(helper_functions.count_paragraphs)\n",
    "\n",
    "df[\"pos_per_sentence_mean\"] = df.text.apply(lambda x: helper_functions.get_avg_pos_types(x, lang))\n",
    "\n",
    "df[\"stats\"] = df[\"text\"].apply(helper_functions.get_sentence_stats)\n",
    "df[[\"unique_words_per_sentence_mean\", \"unique_words_per_sentence_stdev\", \"words_per_sentence_mean\", \"words_per_sentence_stdev\"]] = pd.DataFrame(df[\"stats\"].tolist(), index=df.index)\n",
    "# Drop the original 'stats' column\n",
    "df.drop(columns=[\"stats\"], inplace=True)\n",
    "\n",
    "df[\"uppercase_letters_relative\"] = df.text.apply(helper_functions.uppercase_percentage)\n",
    "df[\"discourse_marker_count\"] = df.text.apply(lambda x: helper_functions.discourse_marker_count(x, lang))\n",
    "df[\"stop_word_count\"] = df.text.apply(lambda x: helper_functions.count_stopwords(x, lang))\n",
    "df[\"multi_blank_count\"] = df.text.apply(helper_functions.count_double_blanks)\n",
    "\n",
    "\n",
    "import language_tool_python\n",
    "\n",
    "if lang == \"en\" or lang == \"fr\" or lang == \"es\":\n",
    "    # FEATURE LANGUAGE FINDINGS\n",
    "    tool = language_tool_python.LanguageTool(lang_tool_lang)\n",
    "    df['grammar_error_count'] = df.text.apply(lambda x: len(tool.check(x)))\n",
    "else:\n",
    "    tool = language_tool_python.LanguageToolPublicAPI(lang_tool_lang)\n",
    "    df[\"grammar_error_count\"] = None\n",
    "    for index, row in df.iterrows():\n",
    "        print(index)\n",
    "        sentences = sent_tokenize(row.text)\n",
    "        error_count = 0\n",
    "        for sentence in sentences:\n",
    "            error_count += len(tool.check(sentence))\n",
    "        df.at[index, 'grammar_error_count'] = error_count\n",
    "\n",
    "df[\"sentiment\"] = df.text.apply(lambda x: helper_functions.get_sentiment(x, lang))\n",
    "df[[\"sentiment_polarity\", \"sentiment_subjectivity\"]] = pd.DataFrame(df[\"sentiment\"].tolist(), index=df.index)\n",
    "# Drop the original 'sentiment' column\n",
    "df.drop(columns=[\"sentiment\"], inplace=True)\n",
    "\n",
    "\n",
    "# FEATURE PERPLEXITY\n",
    "df = helper_functions.add_perplexity(df, lang)\n",
    "\n",
    "model = SentenceTransformer('sentence-transformers/distiluse-base-multilingual-cased-v2')\n",
    "df[\"sent_vec_stats\"] = df.text.apply(lambda x: helper_functions.sentence_vector_mean_vector_and_distance(x, model))\n",
    "df[[\"sentence_bert\", \"sentence_bert_dist\"]] = pd.DataFrame(df[\"sent_vec_stats\"].tolist(), index=df.index)\n",
    "df.drop(columns=[\"sent_vec_stats\"], inplace=True)\n"
   ]
  },
  {
   "cell_type": "code",
   "execution_count": null,
   "id": "93717c35",
   "metadata": {},
   "outputs": [],
   "source": [
    "df"
   ]
  },
  {
   "cell_type": "code",
   "execution_count": 50,
   "id": "a4887139",
   "metadata": {},
   "outputs": [],
   "source": [
    "df.to_pickle(\"Data/de_gpt_features_df.pkl\")"
   ]
  }
 ],
 "metadata": {
  "kernelspec": {
   "display_name": "Python 3",
   "language": "python",
   "name": "python3"
  },
  "language_info": {
   "codemirror_mode": {
    "name": "ipython",
    "version": 3
   },
   "file_extension": ".py",
   "mimetype": "text/x-python",
   "name": "python",
   "nbconvert_exporter": "python",
   "pygments_lexer": "ipython3",
   "version": "3.7.3"
  }
 },
 "nbformat": 4,
 "nbformat_minor": 5
}
